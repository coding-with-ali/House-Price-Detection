{
 "cells": [
  {
   "cell_type": "markdown",
   "id": "turned-daisy",
   "metadata": {},
   "source": [
    "# Installing Required Libraries"
   ]
  },
  {
   "cell_type": "code",
   "execution_count": 1,
   "id": "statistical-local",
   "metadata": {},
   "outputs": [],
   "source": [
    "# pip install pandas\n",
    "# pip install numpy\n",
    "# pip install seaborn\n",
    "# pip install scikitlearn\n",
    "# pip install matplotlib"
   ]
  },
  {
   "cell_type": "markdown",
   "id": "associate-integrity",
   "metadata": {},
   "source": [
    " "
   ]
  },
  {
   "cell_type": "markdown",
   "id": "formal-third",
   "metadata": {},
   "source": [
    "# Loading the Data"
   ]
  },
  {
   "cell_type": "code",
   "execution_count": 2,
   "id": "christian-answer",
   "metadata": {},
   "outputs": [],
   "source": [
    "#importing pandas for data processing\n",
    "import pandas as pd\n"
   ]
  },
  {
   "cell_type": "code",
   "execution_count": 3,
   "id": "satisfactory-sentence",
   "metadata": {},
   "outputs": [],
   "source": [
    "#I have the file in which we have the data of the houses\n",
    "# to read the csv file we use the following method of the pandas\n",
    "houses_data =  pd.read_csv(\"housesdata.csv\")"
   ]
  },
  {
   "cell_type": "markdown",
   "id": "prepared-swift",
   "metadata": {},
   "source": [
    "  "
   ]
  },
  {
   "cell_type": "markdown",
   "id": "special-timing",
   "metadata": {},
   "source": [
    "# Understanding the Data"
   ]
  },
  {
   "cell_type": "code",
   "execution_count": 4,
   "id": "selective-petroleum",
   "metadata": {},
   "outputs": [
    {
     "data": {
      "text/html": [
       "<div>\n",
       "<style scoped>\n",
       "    .dataframe tbody tr th:only-of-type {\n",
       "        vertical-align: middle;\n",
       "    }\n",
       "\n",
       "    .dataframe tbody tr th {\n",
       "        vertical-align: top;\n",
       "    }\n",
       "\n",
       "    .dataframe thead th {\n",
       "        text-align: right;\n",
       "    }\n",
       "</style>\n",
       "<table border=\"1\" class=\"dataframe\">\n",
       "  <thead>\n",
       "    <tr style=\"text-align: right;\">\n",
       "      <th></th>\n",
       "      <th>CRIM</th>\n",
       "      <th>ZN</th>\n",
       "      <th>INDUS</th>\n",
       "      <th>CHAS</th>\n",
       "      <th>NOX</th>\n",
       "      <th>RM</th>\n",
       "      <th>AGE</th>\n",
       "      <th>DIS</th>\n",
       "      <th>RAD</th>\n",
       "      <th>TAX</th>\n",
       "      <th>PTRATIO</th>\n",
       "      <th>B</th>\n",
       "      <th>LSTAT</th>\n",
       "      <th>MEDV</th>\n",
       "    </tr>\n",
       "  </thead>\n",
       "  <tbody>\n",
       "    <tr>\n",
       "      <th>0</th>\n",
       "      <td>0.00632</td>\n",
       "      <td>18.0</td>\n",
       "      <td>2.31</td>\n",
       "      <td>0</td>\n",
       "      <td>0.538</td>\n",
       "      <td>6.575</td>\n",
       "      <td>65.2</td>\n",
       "      <td>4.0900</td>\n",
       "      <td>1</td>\n",
       "      <td>296</td>\n",
       "      <td>15.3</td>\n",
       "      <td>396.90</td>\n",
       "      <td>4.98</td>\n",
       "      <td>24.0</td>\n",
       "    </tr>\n",
       "    <tr>\n",
       "      <th>1</th>\n",
       "      <td>0.02731</td>\n",
       "      <td>0.0</td>\n",
       "      <td>7.07</td>\n",
       "      <td>0</td>\n",
       "      <td>0.469</td>\n",
       "      <td>6.421</td>\n",
       "      <td>78.9</td>\n",
       "      <td>4.9671</td>\n",
       "      <td>2</td>\n",
       "      <td>242</td>\n",
       "      <td>17.8</td>\n",
       "      <td>396.90</td>\n",
       "      <td>9.14</td>\n",
       "      <td>21.6</td>\n",
       "    </tr>\n",
       "    <tr>\n",
       "      <th>2</th>\n",
       "      <td>0.02729</td>\n",
       "      <td>0.0</td>\n",
       "      <td>7.07</td>\n",
       "      <td>0</td>\n",
       "      <td>0.469</td>\n",
       "      <td>7.185</td>\n",
       "      <td>61.1</td>\n",
       "      <td>4.9671</td>\n",
       "      <td>2</td>\n",
       "      <td>242</td>\n",
       "      <td>17.8</td>\n",
       "      <td>392.83</td>\n",
       "      <td>4.03</td>\n",
       "      <td>34.7</td>\n",
       "    </tr>\n",
       "    <tr>\n",
       "      <th>3</th>\n",
       "      <td>0.03237</td>\n",
       "      <td>0.0</td>\n",
       "      <td>2.18</td>\n",
       "      <td>0</td>\n",
       "      <td>0.458</td>\n",
       "      <td>6.998</td>\n",
       "      <td>45.8</td>\n",
       "      <td>6.0622</td>\n",
       "      <td>3</td>\n",
       "      <td>222</td>\n",
       "      <td>18.7</td>\n",
       "      <td>394.63</td>\n",
       "      <td>2.94</td>\n",
       "      <td>33.4</td>\n",
       "    </tr>\n",
       "    <tr>\n",
       "      <th>4</th>\n",
       "      <td>0.06905</td>\n",
       "      <td>0.0</td>\n",
       "      <td>2.18</td>\n",
       "      <td>0</td>\n",
       "      <td>0.458</td>\n",
       "      <td>7.147</td>\n",
       "      <td>54.2</td>\n",
       "      <td>6.0622</td>\n",
       "      <td>3</td>\n",
       "      <td>222</td>\n",
       "      <td>18.7</td>\n",
       "      <td>396.90</td>\n",
       "      <td>5.33</td>\n",
       "      <td>36.2</td>\n",
       "    </tr>\n",
       "    <tr>\n",
       "      <th>5</th>\n",
       "      <td>0.02985</td>\n",
       "      <td>0.0</td>\n",
       "      <td>2.18</td>\n",
       "      <td>0</td>\n",
       "      <td>0.458</td>\n",
       "      <td>6.430</td>\n",
       "      <td>58.7</td>\n",
       "      <td>6.0622</td>\n",
       "      <td>3</td>\n",
       "      <td>222</td>\n",
       "      <td>18.7</td>\n",
       "      <td>394.12</td>\n",
       "      <td>5.21</td>\n",
       "      <td>28.7</td>\n",
       "    </tr>\n",
       "    <tr>\n",
       "      <th>6</th>\n",
       "      <td>0.08829</td>\n",
       "      <td>12.5</td>\n",
       "      <td>7.87</td>\n",
       "      <td>0</td>\n",
       "      <td>0.524</td>\n",
       "      <td>6.012</td>\n",
       "      <td>66.6</td>\n",
       "      <td>5.5605</td>\n",
       "      <td>5</td>\n",
       "      <td>311</td>\n",
       "      <td>15.2</td>\n",
       "      <td>395.60</td>\n",
       "      <td>12.43</td>\n",
       "      <td>22.9</td>\n",
       "    </tr>\n",
       "    <tr>\n",
       "      <th>7</th>\n",
       "      <td>0.14455</td>\n",
       "      <td>12.5</td>\n",
       "      <td>7.87</td>\n",
       "      <td>0</td>\n",
       "      <td>0.524</td>\n",
       "      <td>6.172</td>\n",
       "      <td>96.1</td>\n",
       "      <td>5.9505</td>\n",
       "      <td>5</td>\n",
       "      <td>311</td>\n",
       "      <td>15.2</td>\n",
       "      <td>396.90</td>\n",
       "      <td>19.15</td>\n",
       "      <td>27.1</td>\n",
       "    </tr>\n",
       "    <tr>\n",
       "      <th>8</th>\n",
       "      <td>0.21124</td>\n",
       "      <td>12.5</td>\n",
       "      <td>7.87</td>\n",
       "      <td>0</td>\n",
       "      <td>0.524</td>\n",
       "      <td>5.631</td>\n",
       "      <td>100.0</td>\n",
       "      <td>6.0821</td>\n",
       "      <td>5</td>\n",
       "      <td>311</td>\n",
       "      <td>15.2</td>\n",
       "      <td>386.63</td>\n",
       "      <td>29.93</td>\n",
       "      <td>16.5</td>\n",
       "    </tr>\n",
       "    <tr>\n",
       "      <th>9</th>\n",
       "      <td>0.17004</td>\n",
       "      <td>12.5</td>\n",
       "      <td>7.87</td>\n",
       "      <td>0</td>\n",
       "      <td>0.524</td>\n",
       "      <td>6.004</td>\n",
       "      <td>85.9</td>\n",
       "      <td>6.5921</td>\n",
       "      <td>5</td>\n",
       "      <td>311</td>\n",
       "      <td>15.2</td>\n",
       "      <td>386.71</td>\n",
       "      <td>17.10</td>\n",
       "      <td>18.9</td>\n",
       "    </tr>\n",
       "  </tbody>\n",
       "</table>\n",
       "</div>"
      ],
      "text/plain": [
       "      CRIM    ZN  INDUS  CHAS    NOX     RM    AGE     DIS  RAD  TAX  PTRATIO  \\\n",
       "0  0.00632  18.0   2.31     0  0.538  6.575   65.2  4.0900    1  296     15.3   \n",
       "1  0.02731   0.0   7.07     0  0.469  6.421   78.9  4.9671    2  242     17.8   \n",
       "2  0.02729   0.0   7.07     0  0.469  7.185   61.1  4.9671    2  242     17.8   \n",
       "3  0.03237   0.0   2.18     0  0.458  6.998   45.8  6.0622    3  222     18.7   \n",
       "4  0.06905   0.0   2.18     0  0.458  7.147   54.2  6.0622    3  222     18.7   \n",
       "5  0.02985   0.0   2.18     0  0.458  6.430   58.7  6.0622    3  222     18.7   \n",
       "6  0.08829  12.5   7.87     0  0.524  6.012   66.6  5.5605    5  311     15.2   \n",
       "7  0.14455  12.5   7.87     0  0.524  6.172   96.1  5.9505    5  311     15.2   \n",
       "8  0.21124  12.5   7.87     0  0.524  5.631  100.0  6.0821    5  311     15.2   \n",
       "9  0.17004  12.5   7.87     0  0.524  6.004   85.9  6.5921    5  311     15.2   \n",
       "\n",
       "        B  LSTAT  MEDV  \n",
       "0  396.90   4.98  24.0  \n",
       "1  396.90   9.14  21.6  \n",
       "2  392.83   4.03  34.7  \n",
       "3  394.63   2.94  33.4  \n",
       "4  396.90   5.33  36.2  \n",
       "5  394.12   5.21  28.7  \n",
       "6  395.60  12.43  22.9  \n",
       "7  396.90  19.15  27.1  \n",
       "8  386.63  29.93  16.5  \n",
       "9  386.71  17.10  18.9  "
      ]
     },
     "execution_count": 4,
     "metadata": {},
     "output_type": "execute_result"
    }
   ],
   "source": [
    "# To see our data we just read the first 5 or 10 Rows to see the \n",
    "# values and columns. \n",
    "houses_data.head(10)"
   ]
  },
  {
   "cell_type": "markdown",
   "id": "aging-valve",
   "metadata": {},
   "source": [
    " "
   ]
  },
  {
   "cell_type": "code",
   "execution_count": 5,
   "id": "naughty-scheme",
   "metadata": {},
   "outputs": [
    {
     "data": {
      "text/html": [
       "<div>\n",
       "<style scoped>\n",
       "    .dataframe tbody tr th:only-of-type {\n",
       "        vertical-align: middle;\n",
       "    }\n",
       "\n",
       "    .dataframe tbody tr th {\n",
       "        vertical-align: top;\n",
       "    }\n",
       "\n",
       "    .dataframe thead th {\n",
       "        text-align: right;\n",
       "    }\n",
       "</style>\n",
       "<table border=\"1\" class=\"dataframe\">\n",
       "  <thead>\n",
       "    <tr style=\"text-align: right;\">\n",
       "      <th></th>\n",
       "      <th>CRIM</th>\n",
       "      <th>ZN</th>\n",
       "      <th>INDUS</th>\n",
       "      <th>CHAS</th>\n",
       "      <th>NOX</th>\n",
       "      <th>RM</th>\n",
       "      <th>AGE</th>\n",
       "      <th>DIS</th>\n",
       "      <th>RAD</th>\n",
       "      <th>TAX</th>\n",
       "      <th>PTRATIO</th>\n",
       "      <th>B</th>\n",
       "      <th>LSTAT</th>\n",
       "      <th>MEDV</th>\n",
       "    </tr>\n",
       "  </thead>\n",
       "  <tbody>\n",
       "    <tr>\n",
       "      <th>496</th>\n",
       "      <td>0.28960</td>\n",
       "      <td>0.0</td>\n",
       "      <td>9.69</td>\n",
       "      <td>0</td>\n",
       "      <td>0.585</td>\n",
       "      <td>5.390</td>\n",
       "      <td>72.9</td>\n",
       "      <td>2.7986</td>\n",
       "      <td>6</td>\n",
       "      <td>391</td>\n",
       "      <td>19.2</td>\n",
       "      <td>396.90</td>\n",
       "      <td>21.14</td>\n",
       "      <td>19.7</td>\n",
       "    </tr>\n",
       "    <tr>\n",
       "      <th>497</th>\n",
       "      <td>0.26838</td>\n",
       "      <td>0.0</td>\n",
       "      <td>9.69</td>\n",
       "      <td>0</td>\n",
       "      <td>0.585</td>\n",
       "      <td>5.794</td>\n",
       "      <td>70.6</td>\n",
       "      <td>2.8927</td>\n",
       "      <td>6</td>\n",
       "      <td>391</td>\n",
       "      <td>19.2</td>\n",
       "      <td>396.90</td>\n",
       "      <td>14.10</td>\n",
       "      <td>18.3</td>\n",
       "    </tr>\n",
       "    <tr>\n",
       "      <th>498</th>\n",
       "      <td>0.23912</td>\n",
       "      <td>0.0</td>\n",
       "      <td>9.69</td>\n",
       "      <td>0</td>\n",
       "      <td>0.585</td>\n",
       "      <td>6.019</td>\n",
       "      <td>65.3</td>\n",
       "      <td>2.4091</td>\n",
       "      <td>6</td>\n",
       "      <td>391</td>\n",
       "      <td>19.2</td>\n",
       "      <td>396.90</td>\n",
       "      <td>12.92</td>\n",
       "      <td>21.2</td>\n",
       "    </tr>\n",
       "    <tr>\n",
       "      <th>499</th>\n",
       "      <td>0.17783</td>\n",
       "      <td>0.0</td>\n",
       "      <td>9.69</td>\n",
       "      <td>0</td>\n",
       "      <td>0.585</td>\n",
       "      <td>5.569</td>\n",
       "      <td>73.5</td>\n",
       "      <td>2.3999</td>\n",
       "      <td>6</td>\n",
       "      <td>391</td>\n",
       "      <td>19.2</td>\n",
       "      <td>395.77</td>\n",
       "      <td>15.10</td>\n",
       "      <td>17.5</td>\n",
       "    </tr>\n",
       "    <tr>\n",
       "      <th>500</th>\n",
       "      <td>0.22438</td>\n",
       "      <td>0.0</td>\n",
       "      <td>9.69</td>\n",
       "      <td>0</td>\n",
       "      <td>0.585</td>\n",
       "      <td>6.027</td>\n",
       "      <td>79.7</td>\n",
       "      <td>2.4982</td>\n",
       "      <td>6</td>\n",
       "      <td>391</td>\n",
       "      <td>19.2</td>\n",
       "      <td>396.90</td>\n",
       "      <td>14.33</td>\n",
       "      <td>16.8</td>\n",
       "    </tr>\n",
       "    <tr>\n",
       "      <th>501</th>\n",
       "      <td>0.06263</td>\n",
       "      <td>0.0</td>\n",
       "      <td>11.93</td>\n",
       "      <td>0</td>\n",
       "      <td>0.573</td>\n",
       "      <td>6.593</td>\n",
       "      <td>69.1</td>\n",
       "      <td>2.4786</td>\n",
       "      <td>1</td>\n",
       "      <td>273</td>\n",
       "      <td>21.0</td>\n",
       "      <td>391.99</td>\n",
       "      <td>9.67</td>\n",
       "      <td>22.4</td>\n",
       "    </tr>\n",
       "    <tr>\n",
       "      <th>502</th>\n",
       "      <td>0.04527</td>\n",
       "      <td>0.0</td>\n",
       "      <td>11.93</td>\n",
       "      <td>0</td>\n",
       "      <td>0.573</td>\n",
       "      <td>6.120</td>\n",
       "      <td>76.7</td>\n",
       "      <td>2.2875</td>\n",
       "      <td>1</td>\n",
       "      <td>273</td>\n",
       "      <td>21.0</td>\n",
       "      <td>396.90</td>\n",
       "      <td>9.08</td>\n",
       "      <td>20.6</td>\n",
       "    </tr>\n",
       "    <tr>\n",
       "      <th>503</th>\n",
       "      <td>0.06076</td>\n",
       "      <td>0.0</td>\n",
       "      <td>11.93</td>\n",
       "      <td>0</td>\n",
       "      <td>0.573</td>\n",
       "      <td>6.976</td>\n",
       "      <td>91.0</td>\n",
       "      <td>2.1675</td>\n",
       "      <td>1</td>\n",
       "      <td>273</td>\n",
       "      <td>21.0</td>\n",
       "      <td>396.90</td>\n",
       "      <td>5.64</td>\n",
       "      <td>23.9</td>\n",
       "    </tr>\n",
       "    <tr>\n",
       "      <th>504</th>\n",
       "      <td>0.10959</td>\n",
       "      <td>0.0</td>\n",
       "      <td>11.93</td>\n",
       "      <td>0</td>\n",
       "      <td>0.573</td>\n",
       "      <td>6.794</td>\n",
       "      <td>89.3</td>\n",
       "      <td>2.3889</td>\n",
       "      <td>1</td>\n",
       "      <td>273</td>\n",
       "      <td>21.0</td>\n",
       "      <td>393.45</td>\n",
       "      <td>6.48</td>\n",
       "      <td>22.0</td>\n",
       "    </tr>\n",
       "    <tr>\n",
       "      <th>505</th>\n",
       "      <td>0.04741</td>\n",
       "      <td>0.0</td>\n",
       "      <td>11.93</td>\n",
       "      <td>0</td>\n",
       "      <td>0.573</td>\n",
       "      <td>6.030</td>\n",
       "      <td>80.8</td>\n",
       "      <td>2.5050</td>\n",
       "      <td>1</td>\n",
       "      <td>273</td>\n",
       "      <td>21.0</td>\n",
       "      <td>396.90</td>\n",
       "      <td>7.88</td>\n",
       "      <td>11.9</td>\n",
       "    </tr>\n",
       "  </tbody>\n",
       "</table>\n",
       "</div>"
      ],
      "text/plain": [
       "        CRIM   ZN  INDUS  CHAS    NOX     RM   AGE     DIS  RAD  TAX  PTRATIO  \\\n",
       "496  0.28960  0.0   9.69     0  0.585  5.390  72.9  2.7986    6  391     19.2   \n",
       "497  0.26838  0.0   9.69     0  0.585  5.794  70.6  2.8927    6  391     19.2   \n",
       "498  0.23912  0.0   9.69     0  0.585  6.019  65.3  2.4091    6  391     19.2   \n",
       "499  0.17783  0.0   9.69     0  0.585  5.569  73.5  2.3999    6  391     19.2   \n",
       "500  0.22438  0.0   9.69     0  0.585  6.027  79.7  2.4982    6  391     19.2   \n",
       "501  0.06263  0.0  11.93     0  0.573  6.593  69.1  2.4786    1  273     21.0   \n",
       "502  0.04527  0.0  11.93     0  0.573  6.120  76.7  2.2875    1  273     21.0   \n",
       "503  0.06076  0.0  11.93     0  0.573  6.976  91.0  2.1675    1  273     21.0   \n",
       "504  0.10959  0.0  11.93     0  0.573  6.794  89.3  2.3889    1  273     21.0   \n",
       "505  0.04741  0.0  11.93     0  0.573  6.030  80.8  2.5050    1  273     21.0   \n",
       "\n",
       "          B  LSTAT  MEDV  \n",
       "496  396.90  21.14  19.7  \n",
       "497  396.90  14.10  18.3  \n",
       "498  396.90  12.92  21.2  \n",
       "499  395.77  15.10  17.5  \n",
       "500  396.90  14.33  16.8  \n",
       "501  391.99   9.67  22.4  \n",
       "502  396.90   9.08  20.6  \n",
       "503  396.90   5.64  23.9  \n",
       "504  393.45   6.48  22.0  \n",
       "505  396.90   7.88  11.9  "
      ]
     },
     "execution_count": 5,
     "metadata": {},
     "output_type": "execute_result"
    }
   ],
   "source": [
    "# from the first and the last rows we just guess the attributes and values\n",
    "# also we have a rough guess of our Data\n",
    "houses_data.tail(10)"
   ]
  },
  {
   "cell_type": "markdown",
   "id": "hourly-victory",
   "metadata": {},
   "source": [
    " "
   ]
  },
  {
   "cell_type": "code",
   "execution_count": 6,
   "id": "advance-findings",
   "metadata": {},
   "outputs": [
    {
     "name": "stdout",
     "output_type": "stream",
     "text": [
      "<class 'pandas.core.frame.DataFrame'>\n",
      "RangeIndex: 506 entries, 0 to 505\n",
      "Data columns (total 14 columns):\n",
      " #   Column   Non-Null Count  Dtype  \n",
      "---  ------   --------------  -----  \n",
      " 0   CRIM     506 non-null    float64\n",
      " 1   ZN       506 non-null    float64\n",
      " 2   INDUS    506 non-null    float64\n",
      " 3   CHAS     506 non-null    int64  \n",
      " 4   NOX      506 non-null    float64\n",
      " 5   RM       501 non-null    float64\n",
      " 6   AGE      506 non-null    float64\n",
      " 7   DIS      506 non-null    float64\n",
      " 8   RAD      506 non-null    int64  \n",
      " 9   TAX      506 non-null    int64  \n",
      " 10  PTRATIO  506 non-null    float64\n",
      " 11  B        506 non-null    float64\n",
      " 12  LSTAT    506 non-null    float64\n",
      " 13  MEDV     506 non-null    float64\n",
      "dtypes: float64(11), int64(3)\n",
      "memory usage: 55.5 KB\n"
     ]
    }
   ],
   "source": [
    "houses_data.info()"
   ]
  },
  {
   "cell_type": "markdown",
   "id": "promising-gateway",
   "metadata": {},
   "source": [
    " "
   ]
  },
  {
   "cell_type": "code",
   "execution_count": 7,
   "id": "dressed-owner",
   "metadata": {},
   "outputs": [
    {
     "data": {
      "text/html": [
       "<div>\n",
       "<style scoped>\n",
       "    .dataframe tbody tr th:only-of-type {\n",
       "        vertical-align: middle;\n",
       "    }\n",
       "\n",
       "    .dataframe tbody tr th {\n",
       "        vertical-align: top;\n",
       "    }\n",
       "\n",
       "    .dataframe thead th {\n",
       "        text-align: right;\n",
       "    }\n",
       "</style>\n",
       "<table border=\"1\" class=\"dataframe\">\n",
       "  <thead>\n",
       "    <tr style=\"text-align: right;\">\n",
       "      <th></th>\n",
       "      <th>CRIM</th>\n",
       "      <th>ZN</th>\n",
       "      <th>INDUS</th>\n",
       "      <th>CHAS</th>\n",
       "      <th>NOX</th>\n",
       "      <th>RM</th>\n",
       "      <th>AGE</th>\n",
       "      <th>DIS</th>\n",
       "      <th>RAD</th>\n",
       "      <th>TAX</th>\n",
       "      <th>PTRATIO</th>\n",
       "      <th>B</th>\n",
       "      <th>LSTAT</th>\n",
       "      <th>MEDV</th>\n",
       "    </tr>\n",
       "  </thead>\n",
       "  <tbody>\n",
       "    <tr>\n",
       "      <th>count</th>\n",
       "      <td>506.000000</td>\n",
       "      <td>506.000000</td>\n",
       "      <td>506.000000</td>\n",
       "      <td>506.000000</td>\n",
       "      <td>506.000000</td>\n",
       "      <td>501.000000</td>\n",
       "      <td>506.000000</td>\n",
       "      <td>506.000000</td>\n",
       "      <td>506.000000</td>\n",
       "      <td>506.000000</td>\n",
       "      <td>506.000000</td>\n",
       "      <td>506.000000</td>\n",
       "      <td>506.000000</td>\n",
       "      <td>506.000000</td>\n",
       "    </tr>\n",
       "    <tr>\n",
       "      <th>mean</th>\n",
       "      <td>3.613524</td>\n",
       "      <td>11.363636</td>\n",
       "      <td>11.136779</td>\n",
       "      <td>0.069170</td>\n",
       "      <td>0.554695</td>\n",
       "      <td>6.284341</td>\n",
       "      <td>68.574901</td>\n",
       "      <td>3.795043</td>\n",
       "      <td>9.549407</td>\n",
       "      <td>408.237154</td>\n",
       "      <td>18.455534</td>\n",
       "      <td>356.674032</td>\n",
       "      <td>12.653063</td>\n",
       "      <td>22.532806</td>\n",
       "    </tr>\n",
       "    <tr>\n",
       "      <th>std</th>\n",
       "      <td>8.601545</td>\n",
       "      <td>23.322453</td>\n",
       "      <td>6.860353</td>\n",
       "      <td>0.253994</td>\n",
       "      <td>0.115878</td>\n",
       "      <td>0.705587</td>\n",
       "      <td>28.148861</td>\n",
       "      <td>2.105710</td>\n",
       "      <td>8.707259</td>\n",
       "      <td>168.537116</td>\n",
       "      <td>2.164946</td>\n",
       "      <td>91.294864</td>\n",
       "      <td>7.141062</td>\n",
       "      <td>9.197104</td>\n",
       "    </tr>\n",
       "    <tr>\n",
       "      <th>min</th>\n",
       "      <td>0.006320</td>\n",
       "      <td>0.000000</td>\n",
       "      <td>0.460000</td>\n",
       "      <td>0.000000</td>\n",
       "      <td>0.385000</td>\n",
       "      <td>3.561000</td>\n",
       "      <td>2.900000</td>\n",
       "      <td>1.129600</td>\n",
       "      <td>1.000000</td>\n",
       "      <td>187.000000</td>\n",
       "      <td>12.600000</td>\n",
       "      <td>0.320000</td>\n",
       "      <td>1.730000</td>\n",
       "      <td>5.000000</td>\n",
       "    </tr>\n",
       "    <tr>\n",
       "      <th>25%</th>\n",
       "      <td>0.082045</td>\n",
       "      <td>0.000000</td>\n",
       "      <td>5.190000</td>\n",
       "      <td>0.000000</td>\n",
       "      <td>0.449000</td>\n",
       "      <td>5.884000</td>\n",
       "      <td>45.025000</td>\n",
       "      <td>2.100175</td>\n",
       "      <td>4.000000</td>\n",
       "      <td>279.000000</td>\n",
       "      <td>17.400000</td>\n",
       "      <td>375.377500</td>\n",
       "      <td>6.950000</td>\n",
       "      <td>17.025000</td>\n",
       "    </tr>\n",
       "    <tr>\n",
       "      <th>50%</th>\n",
       "      <td>0.256510</td>\n",
       "      <td>0.000000</td>\n",
       "      <td>9.690000</td>\n",
       "      <td>0.000000</td>\n",
       "      <td>0.538000</td>\n",
       "      <td>6.208000</td>\n",
       "      <td>77.500000</td>\n",
       "      <td>3.207450</td>\n",
       "      <td>5.000000</td>\n",
       "      <td>330.000000</td>\n",
       "      <td>19.050000</td>\n",
       "      <td>391.440000</td>\n",
       "      <td>11.360000</td>\n",
       "      <td>21.200000</td>\n",
       "    </tr>\n",
       "    <tr>\n",
       "      <th>75%</th>\n",
       "      <td>3.677083</td>\n",
       "      <td>12.500000</td>\n",
       "      <td>18.100000</td>\n",
       "      <td>0.000000</td>\n",
       "      <td>0.624000</td>\n",
       "      <td>6.625000</td>\n",
       "      <td>94.075000</td>\n",
       "      <td>5.188425</td>\n",
       "      <td>24.000000</td>\n",
       "      <td>666.000000</td>\n",
       "      <td>20.200000</td>\n",
       "      <td>396.225000</td>\n",
       "      <td>16.955000</td>\n",
       "      <td>25.000000</td>\n",
       "    </tr>\n",
       "    <tr>\n",
       "      <th>max</th>\n",
       "      <td>88.976200</td>\n",
       "      <td>100.000000</td>\n",
       "      <td>27.740000</td>\n",
       "      <td>1.000000</td>\n",
       "      <td>0.871000</td>\n",
       "      <td>8.780000</td>\n",
       "      <td>100.000000</td>\n",
       "      <td>12.126500</td>\n",
       "      <td>24.000000</td>\n",
       "      <td>711.000000</td>\n",
       "      <td>22.000000</td>\n",
       "      <td>396.900000</td>\n",
       "      <td>37.970000</td>\n",
       "      <td>50.000000</td>\n",
       "    </tr>\n",
       "  </tbody>\n",
       "</table>\n",
       "</div>"
      ],
      "text/plain": [
       "             CRIM          ZN       INDUS        CHAS         NOX          RM  \\\n",
       "count  506.000000  506.000000  506.000000  506.000000  506.000000  501.000000   \n",
       "mean     3.613524   11.363636   11.136779    0.069170    0.554695    6.284341   \n",
       "std      8.601545   23.322453    6.860353    0.253994    0.115878    0.705587   \n",
       "min      0.006320    0.000000    0.460000    0.000000    0.385000    3.561000   \n",
       "25%      0.082045    0.000000    5.190000    0.000000    0.449000    5.884000   \n",
       "50%      0.256510    0.000000    9.690000    0.000000    0.538000    6.208000   \n",
       "75%      3.677083   12.500000   18.100000    0.000000    0.624000    6.625000   \n",
       "max     88.976200  100.000000   27.740000    1.000000    0.871000    8.780000   \n",
       "\n",
       "              AGE         DIS         RAD         TAX     PTRATIO           B  \\\n",
       "count  506.000000  506.000000  506.000000  506.000000  506.000000  506.000000   \n",
       "mean    68.574901    3.795043    9.549407  408.237154   18.455534  356.674032   \n",
       "std     28.148861    2.105710    8.707259  168.537116    2.164946   91.294864   \n",
       "min      2.900000    1.129600    1.000000  187.000000   12.600000    0.320000   \n",
       "25%     45.025000    2.100175    4.000000  279.000000   17.400000  375.377500   \n",
       "50%     77.500000    3.207450    5.000000  330.000000   19.050000  391.440000   \n",
       "75%     94.075000    5.188425   24.000000  666.000000   20.200000  396.225000   \n",
       "max    100.000000   12.126500   24.000000  711.000000   22.000000  396.900000   \n",
       "\n",
       "            LSTAT        MEDV  \n",
       "count  506.000000  506.000000  \n",
       "mean    12.653063   22.532806  \n",
       "std      7.141062    9.197104  \n",
       "min      1.730000    5.000000  \n",
       "25%      6.950000   17.025000  \n",
       "50%     11.360000   21.200000  \n",
       "75%     16.955000   25.000000  \n",
       "max     37.970000   50.000000  "
      ]
     },
     "execution_count": 7,
     "metadata": {},
     "output_type": "execute_result"
    }
   ],
   "source": [
    "houses_data.describe()"
   ]
  },
  {
   "cell_type": "markdown",
   "id": "exciting-filter",
   "metadata": {},
   "source": [
    " "
   ]
  },
  {
   "cell_type": "code",
   "execution_count": 8,
   "id": "photographic-table",
   "metadata": {},
   "outputs": [
    {
     "name": "stdout",
     "output_type": "stream",
     "text": [
      "0.01501     2\n",
      "14.33370    2\n",
      "0.57834     1\n",
      "0.06127     1\n",
      "0.03548     1\n",
      "           ..\n",
      "0.25356     1\n",
      "0.10469     1\n",
      "0.22876     1\n",
      "0.34109     1\n",
      "0.26363     1\n",
      "Name: CRIM, Length: 504, dtype: int64\n",
      "0.0      372\n",
      "20.0      21\n",
      "80.0      15\n",
      "12.5      10\n",
      "25.0      10\n",
      "22.0      10\n",
      "40.0       7\n",
      "30.0       6\n",
      "45.0       6\n",
      "90.0       5\n",
      "95.0       4\n",
      "21.0       4\n",
      "60.0       4\n",
      "33.0       4\n",
      "28.0       3\n",
      "52.5       3\n",
      "75.0       3\n",
      "34.0       3\n",
      "35.0       3\n",
      "70.0       3\n",
      "55.0       3\n",
      "82.5       2\n",
      "85.0       2\n",
      "17.5       1\n",
      "100.0      1\n",
      "18.0       1\n",
      "Name: ZN, dtype: int64\n",
      "18.10    132\n",
      "19.58     30\n",
      "8.14      22\n",
      "6.20      18\n",
      "21.89     15\n",
      "        ... \n",
      "4.15       1\n",
      "1.76       1\n",
      "1.38       1\n",
      "2.01       1\n",
      "1.89       1\n",
      "Name: INDUS, Length: 76, dtype: int64\n",
      "0    471\n",
      "1     35\n",
      "Name: CHAS, dtype: int64\n",
      "0.538    23\n",
      "0.713    18\n",
      "0.437    17\n",
      "0.871    16\n",
      "0.624    15\n",
      "         ..\n",
      "0.518     1\n",
      "0.394     1\n",
      "0.435     1\n",
      "0.385     1\n",
      "0.422     1\n",
      "Name: NOX, Length: 81, dtype: int64\n",
      "5.713    3\n",
      "6.405    3\n",
      "6.417    3\n",
      "6.167    3\n",
      "6.127    3\n",
      "        ..\n",
      "7.079    1\n",
      "7.287    1\n",
      "7.267    1\n",
      "6.484    1\n",
      "5.960    1\n",
      "Name: RM, Length: 441, dtype: int64\n",
      "100.0    43\n",
      "97.9      4\n",
      "96.0      4\n",
      "95.4      4\n",
      "98.2      4\n",
      "         ..\n",
      "91.6      1\n",
      "62.0      1\n",
      "65.1      1\n",
      "45.7      1\n",
      "93.4      1\n",
      "Name: AGE, Length: 356, dtype: int64\n",
      "3.4952    5\n",
      "5.7209    4\n",
      "5.2873    4\n",
      "6.8147    4\n",
      "5.4007    4\n",
      "         ..\n",
      "1.9669    1\n",
      "3.7598    1\n",
      "3.7872    1\n",
      "1.1781    1\n",
      "2.9879    1\n",
      "Name: DIS, Length: 412, dtype: int64\n",
      "24    132\n",
      "5     115\n",
      "4     110\n",
      "3      38\n",
      "6      26\n",
      "2      24\n",
      "8      24\n",
      "1      20\n",
      "7      17\n",
      "Name: RAD, dtype: int64\n",
      "666    132\n",
      "307     40\n",
      "403     30\n",
      "437     15\n",
      "304     14\n",
      "      ... \n",
      "313      1\n",
      "226      1\n",
      "280      1\n",
      "241      1\n",
      "469      1\n",
      "Name: TAX, Length: 66, dtype: int64\n",
      "20.2    140\n",
      "14.7     34\n",
      "21.0     27\n",
      "17.8     23\n",
      "19.2     19\n",
      "17.4     18\n",
      "18.6     17\n",
      "19.1     17\n",
      "16.6     16\n",
      "18.4     16\n",
      "21.2     15\n",
      "15.2     13\n",
      "13.0     12\n",
      "17.9     11\n",
      "20.9     11\n",
      "18.7      9\n",
      "19.6      8\n",
      "19.7      8\n",
      "17.6      7\n",
      "16.4      6\n",
      "16.0      5\n",
      "18.0      5\n",
      "16.9      5\n",
      "16.1      5\n",
      "20.1      5\n",
      "18.3      4\n",
      "16.8      4\n",
      "17.0      4\n",
      "14.9      4\n",
      "18.5      4\n",
      "19.0      4\n",
      "18.2      4\n",
      "12.6      3\n",
      "15.3      3\n",
      "18.9      3\n",
      "14.8      3\n",
      "15.6      2\n",
      "22.0      2\n",
      "15.9      2\n",
      "18.8      2\n",
      "17.3      1\n",
      "21.1      1\n",
      "15.5      1\n",
      "15.1      1\n",
      "13.6      1\n",
      "14.4      1\n",
      "Name: PTRATIO, dtype: int64\n",
      "396.90    121\n",
      "395.24      3\n",
      "393.74      3\n",
      "394.12      2\n",
      "395.56      2\n",
      "         ... \n",
      "392.33      1\n",
      "383.73      1\n",
      "383.37      1\n",
      "393.55      1\n",
      "395.18      1\n",
      "Name: B, Length: 357, dtype: int64\n",
      "8.05     3\n",
      "6.36     3\n",
      "18.13    3\n",
      "14.10    3\n",
      "7.79     3\n",
      "        ..\n",
      "22.98    1\n",
      "6.57     1\n",
      "14.43    1\n",
      "7.56     1\n",
      "9.25     1\n",
      "Name: LSTAT, Length: 455, dtype: int64\n",
      "50.0    16\n",
      "25.0     8\n",
      "21.7     7\n",
      "22.0     7\n",
      "23.1     7\n",
      "        ..\n",
      "14.2     1\n",
      "26.7     1\n",
      "32.9     1\n",
      "39.8     1\n",
      "9.7      1\n",
      "Name: MEDV, Length: 229, dtype: int64\n"
     ]
    }
   ],
   "source": [
    "# We will now monitor the values of each column and try to understand them\n",
    "\n",
    "column_labels= houses_data.columns\n",
    "\n",
    "for column_label in column_labels:\n",
    "    print(houses_data[column_label].value_counts())\n",
    "    "
   ]
  },
  {
   "cell_type": "markdown",
   "id": "accessible-wound",
   "metadata": {},
   "source": [
    "# Cleaning the Data"
   ]
  },
  {
   "cell_type": "code",
   "execution_count": 9,
   "id": "modified-simulation",
   "metadata": {},
   "outputs": [
    {
     "data": {
      "text/plain": [
       "CRIM       0\n",
       "ZN         0\n",
       "INDUS      0\n",
       "CHAS       0\n",
       "NOX        0\n",
       "RM         5\n",
       "AGE        0\n",
       "DIS        0\n",
       "RAD        0\n",
       "TAX        0\n",
       "PTRATIO    0\n",
       "B          0\n",
       "LSTAT      0\n",
       "MEDV       0\n",
       "dtype: int64"
      ]
     },
     "execution_count": 9,
     "metadata": {},
     "output_type": "execute_result"
    }
   ],
   "source": [
    "# null values impact our data badly. we have to check the  null \n",
    "# values in our data by using the follwoing method with the dataFrame\n",
    "# though we have very clean data but still we need to check it\n",
    "houses_data.isnull().sum()"
   ]
  },
  {
   "cell_type": "markdown",
   "id": "expected-navigator",
   "metadata": {},
   "source": [
    " "
   ]
  },
  {
   "cell_type": "code",
   "execution_count": 10,
   "id": "contained-physics",
   "metadata": {},
   "outputs": [
    {
     "data": {
      "text/html": [
       "<div>\n",
       "<style scoped>\n",
       "    .dataframe tbody tr th:only-of-type {\n",
       "        vertical-align: middle;\n",
       "    }\n",
       "\n",
       "    .dataframe tbody tr th {\n",
       "        vertical-align: top;\n",
       "    }\n",
       "\n",
       "    .dataframe thead th {\n",
       "        text-align: right;\n",
       "    }\n",
       "</style>\n",
       "<table border=\"1\" class=\"dataframe\">\n",
       "  <thead>\n",
       "    <tr style=\"text-align: right;\">\n",
       "      <th></th>\n",
       "      <th>CRIM</th>\n",
       "      <th>ZN</th>\n",
       "      <th>INDUS</th>\n",
       "      <th>CHAS</th>\n",
       "      <th>NOX</th>\n",
       "      <th>RM</th>\n",
       "      <th>AGE</th>\n",
       "      <th>DIS</th>\n",
       "      <th>RAD</th>\n",
       "      <th>TAX</th>\n",
       "      <th>PTRATIO</th>\n",
       "      <th>B</th>\n",
       "      <th>LSTAT</th>\n",
       "      <th>MEDV</th>\n",
       "    </tr>\n",
       "  </thead>\n",
       "  <tbody>\n",
       "    <tr>\n",
       "      <th>0</th>\n",
       "      <td>0.00632</td>\n",
       "      <td>18.0</td>\n",
       "      <td>2.31</td>\n",
       "      <td>0</td>\n",
       "      <td>0.538</td>\n",
       "      <td>6.575</td>\n",
       "      <td>65.2</td>\n",
       "      <td>4.0900</td>\n",
       "      <td>1</td>\n",
       "      <td>296</td>\n",
       "      <td>15.3</td>\n",
       "      <td>396.90</td>\n",
       "      <td>4.98</td>\n",
       "      <td>24.0</td>\n",
       "    </tr>\n",
       "    <tr>\n",
       "      <th>1</th>\n",
       "      <td>0.02731</td>\n",
       "      <td>0.0</td>\n",
       "      <td>7.07</td>\n",
       "      <td>0</td>\n",
       "      <td>0.469</td>\n",
       "      <td>6.421</td>\n",
       "      <td>78.9</td>\n",
       "      <td>4.9671</td>\n",
       "      <td>2</td>\n",
       "      <td>242</td>\n",
       "      <td>17.8</td>\n",
       "      <td>396.90</td>\n",
       "      <td>9.14</td>\n",
       "      <td>21.6</td>\n",
       "    </tr>\n",
       "    <tr>\n",
       "      <th>2</th>\n",
       "      <td>0.02729</td>\n",
       "      <td>0.0</td>\n",
       "      <td>7.07</td>\n",
       "      <td>0</td>\n",
       "      <td>0.469</td>\n",
       "      <td>7.185</td>\n",
       "      <td>61.1</td>\n",
       "      <td>4.9671</td>\n",
       "      <td>2</td>\n",
       "      <td>242</td>\n",
       "      <td>17.8</td>\n",
       "      <td>392.83</td>\n",
       "      <td>4.03</td>\n",
       "      <td>34.7</td>\n",
       "    </tr>\n",
       "    <tr>\n",
       "      <th>3</th>\n",
       "      <td>0.03237</td>\n",
       "      <td>0.0</td>\n",
       "      <td>2.18</td>\n",
       "      <td>0</td>\n",
       "      <td>0.458</td>\n",
       "      <td>6.998</td>\n",
       "      <td>45.8</td>\n",
       "      <td>6.0622</td>\n",
       "      <td>3</td>\n",
       "      <td>222</td>\n",
       "      <td>18.7</td>\n",
       "      <td>394.63</td>\n",
       "      <td>2.94</td>\n",
       "      <td>33.4</td>\n",
       "    </tr>\n",
       "    <tr>\n",
       "      <th>4</th>\n",
       "      <td>0.06905</td>\n",
       "      <td>0.0</td>\n",
       "      <td>2.18</td>\n",
       "      <td>0</td>\n",
       "      <td>0.458</td>\n",
       "      <td>7.147</td>\n",
       "      <td>54.2</td>\n",
       "      <td>6.0622</td>\n",
       "      <td>3</td>\n",
       "      <td>222</td>\n",
       "      <td>18.7</td>\n",
       "      <td>396.90</td>\n",
       "      <td>5.33</td>\n",
       "      <td>36.2</td>\n",
       "    </tr>\n",
       "    <tr>\n",
       "      <th>...</th>\n",
       "      <td>...</td>\n",
       "      <td>...</td>\n",
       "      <td>...</td>\n",
       "      <td>...</td>\n",
       "      <td>...</td>\n",
       "      <td>...</td>\n",
       "      <td>...</td>\n",
       "      <td>...</td>\n",
       "      <td>...</td>\n",
       "      <td>...</td>\n",
       "      <td>...</td>\n",
       "      <td>...</td>\n",
       "      <td>...</td>\n",
       "      <td>...</td>\n",
       "    </tr>\n",
       "    <tr>\n",
       "      <th>501</th>\n",
       "      <td>0.06263</td>\n",
       "      <td>0.0</td>\n",
       "      <td>11.93</td>\n",
       "      <td>0</td>\n",
       "      <td>0.573</td>\n",
       "      <td>6.593</td>\n",
       "      <td>69.1</td>\n",
       "      <td>2.4786</td>\n",
       "      <td>1</td>\n",
       "      <td>273</td>\n",
       "      <td>21.0</td>\n",
       "      <td>391.99</td>\n",
       "      <td>9.67</td>\n",
       "      <td>22.4</td>\n",
       "    </tr>\n",
       "    <tr>\n",
       "      <th>502</th>\n",
       "      <td>0.04527</td>\n",
       "      <td>0.0</td>\n",
       "      <td>11.93</td>\n",
       "      <td>0</td>\n",
       "      <td>0.573</td>\n",
       "      <td>6.120</td>\n",
       "      <td>76.7</td>\n",
       "      <td>2.2875</td>\n",
       "      <td>1</td>\n",
       "      <td>273</td>\n",
       "      <td>21.0</td>\n",
       "      <td>396.90</td>\n",
       "      <td>9.08</td>\n",
       "      <td>20.6</td>\n",
       "    </tr>\n",
       "    <tr>\n",
       "      <th>503</th>\n",
       "      <td>0.06076</td>\n",
       "      <td>0.0</td>\n",
       "      <td>11.93</td>\n",
       "      <td>0</td>\n",
       "      <td>0.573</td>\n",
       "      <td>6.976</td>\n",
       "      <td>91.0</td>\n",
       "      <td>2.1675</td>\n",
       "      <td>1</td>\n",
       "      <td>273</td>\n",
       "      <td>21.0</td>\n",
       "      <td>396.90</td>\n",
       "      <td>5.64</td>\n",
       "      <td>23.9</td>\n",
       "    </tr>\n",
       "    <tr>\n",
       "      <th>504</th>\n",
       "      <td>0.10959</td>\n",
       "      <td>0.0</td>\n",
       "      <td>11.93</td>\n",
       "      <td>0</td>\n",
       "      <td>0.573</td>\n",
       "      <td>6.794</td>\n",
       "      <td>89.3</td>\n",
       "      <td>2.3889</td>\n",
       "      <td>1</td>\n",
       "      <td>273</td>\n",
       "      <td>21.0</td>\n",
       "      <td>393.45</td>\n",
       "      <td>6.48</td>\n",
       "      <td>22.0</td>\n",
       "    </tr>\n",
       "    <tr>\n",
       "      <th>505</th>\n",
       "      <td>0.04741</td>\n",
       "      <td>0.0</td>\n",
       "      <td>11.93</td>\n",
       "      <td>0</td>\n",
       "      <td>0.573</td>\n",
       "      <td>6.030</td>\n",
       "      <td>80.8</td>\n",
       "      <td>2.5050</td>\n",
       "      <td>1</td>\n",
       "      <td>273</td>\n",
       "      <td>21.0</td>\n",
       "      <td>396.90</td>\n",
       "      <td>7.88</td>\n",
       "      <td>11.9</td>\n",
       "    </tr>\n",
       "  </tbody>\n",
       "</table>\n",
       "<p>501 rows × 14 columns</p>\n",
       "</div>"
      ],
      "text/plain": [
       "        CRIM    ZN  INDUS  CHAS    NOX     RM   AGE     DIS  RAD  TAX  \\\n",
       "0    0.00632  18.0   2.31     0  0.538  6.575  65.2  4.0900    1  296   \n",
       "1    0.02731   0.0   7.07     0  0.469  6.421  78.9  4.9671    2  242   \n",
       "2    0.02729   0.0   7.07     0  0.469  7.185  61.1  4.9671    2  242   \n",
       "3    0.03237   0.0   2.18     0  0.458  6.998  45.8  6.0622    3  222   \n",
       "4    0.06905   0.0   2.18     0  0.458  7.147  54.2  6.0622    3  222   \n",
       "..       ...   ...    ...   ...    ...    ...   ...     ...  ...  ...   \n",
       "501  0.06263   0.0  11.93     0  0.573  6.593  69.1  2.4786    1  273   \n",
       "502  0.04527   0.0  11.93     0  0.573  6.120  76.7  2.2875    1  273   \n",
       "503  0.06076   0.0  11.93     0  0.573  6.976  91.0  2.1675    1  273   \n",
       "504  0.10959   0.0  11.93     0  0.573  6.794  89.3  2.3889    1  273   \n",
       "505  0.04741   0.0  11.93     0  0.573  6.030  80.8  2.5050    1  273   \n",
       "\n",
       "     PTRATIO       B  LSTAT  MEDV  \n",
       "0       15.3  396.90   4.98  24.0  \n",
       "1       17.8  396.90   9.14  21.6  \n",
       "2       17.8  392.83   4.03  34.7  \n",
       "3       18.7  394.63   2.94  33.4  \n",
       "4       18.7  396.90   5.33  36.2  \n",
       "..       ...     ...    ...   ...  \n",
       "501     21.0  391.99   9.67  22.4  \n",
       "502     21.0  396.90   9.08  20.6  \n",
       "503     21.0  396.90   5.64  23.9  \n",
       "504     21.0  393.45   6.48  22.0  \n",
       "505     21.0  396.90   7.88  11.9  \n",
       "\n",
       "[501 rows x 14 columns]"
      ]
     },
     "execution_count": 10,
     "metadata": {},
     "output_type": "execute_result"
    }
   ],
   "source": [
    "# we can see that the 5 values of the RM are Null.\n",
    "# It is not a good idea to make our Model on the null\n",
    "# values. We have now three solutions for these\n",
    "# 1. Drop the Whole RM Column\n",
    "# 2. Drop the 5 Rows for which the RM values are Null\n",
    "# 3. Fill the Null Values\n",
    "\n",
    "# For us the RM values are not that much matter so we will just drop it.\n",
    "houses_data.dropna()"
   ]
  },
  {
   "cell_type": "markdown",
   "id": "modern-punishment",
   "metadata": {},
   "source": [
    " "
   ]
  },
  {
   "cell_type": "markdown",
   "id": "brief-magnitude",
   "metadata": {},
   "source": [
    "# Visualizing the Data"
   ]
  },
  {
   "cell_type": "code",
   "execution_count": 11,
   "id": "organized-family",
   "metadata": {},
   "outputs": [
    {
     "data": {
      "text/plain": [
       "(array([ 21.,  55.,  82., 154.,  84.,  41.,  30.,   8.,  10.,  21.]),\n",
       " array([ 5. ,  9.5, 14. , 18.5, 23. , 27.5, 32. , 36.5, 41. , 45.5, 50. ]),\n",
       " <BarContainer object of 10 artists>)"
      ]
     },
     "execution_count": 11,
     "metadata": {},
     "output_type": "execute_result"
    },
    {
     "data": {
      "image/png": "[encoded data removed]",
      "text/plain": [
       "<Figure size 432x288 with 2 Axes>"
      ]
     },
     "metadata": {
      "needs_background": "light"
     },
     "output_type": "display_data"
    }
   ],
   "source": [
    "%matplotlib inline\n",
    "import matplotlib.pyplot as plt\n",
    "from matplotlib.ticker import PercentFormatter\n",
    "fig, axs = plt.subplots(1, 2, sharey=True, tight_layout=True)\n",
    "axs[0].hist(houses_data[\"CRIM\"],color=\"red\")\n",
    "axs[1].hist(houses_data[\"MEDV\"])\n",
    "\n"
   ]
  },
  {
   "cell_type": "code",
   "execution_count": 12,
   "id": "latest-juice",
   "metadata": {},
   "outputs": [
    {
     "name": "stderr",
     "output_type": "stream",
     "text": [
      "c:\\users\\ali\\appdata\\local\\programs\\python\\python39\\lib\\site-packages\\pandas\\plotting\\_matplotlib\\tools.py:400: MatplotlibDeprecationWarning: \n",
      "The is_first_col function was deprecated in Matplotlib 3.4 and will be removed two minor releases later. Use ax.get_subplotspec().is_first_col() instead.\n",
      "  if ax.is_first_col():\n"
     ]
    },
    {
     "data": {
      "text/plain": [
       "array([[<AxesSubplot:title={'center':'CRIM'}>,\n",
       "        <AxesSubplot:title={'center':'ZN'}>,\n",
       "        <AxesSubplot:title={'center':'INDUS'}>,\n",
       "        <AxesSubplot:title={'center':'CHAS'}>],\n",
       "       [<AxesSubplot:title={'center':'NOX'}>,\n",
       "        <AxesSubplot:title={'center':'RM'}>,\n",
       "        <AxesSubplot:title={'center':'AGE'}>,\n",
       "        <AxesSubplot:title={'center':'DIS'}>],\n",
       "       [<AxesSubplot:title={'center':'RAD'}>,\n",
       "        <AxesSubplot:title={'center':'TAX'}>,\n",
       "        <AxesSubplot:title={'center':'PTRATIO'}>,\n",
       "        <AxesSubplot:title={'center':'B'}>],\n",
       "       [<AxesSubplot:title={'center':'LSTAT'}>,\n",
       "        <AxesSubplot:title={'center':'MEDV'}>, <AxesSubplot:>,\n",
       "        <AxesSubplot:>]], dtype=object)"
      ]
     },
     "execution_count": 12,
     "metadata": {},
     "output_type": "execute_result"
    },
    {
     "data": {
      "image/png": "[encoded data removed]",
      "text/plain": [
       "<Figure size 1440x1080 with 16 Axes>"
      ]
     },
     "metadata": {
      "needs_background": "light"
     },
     "output_type": "display_data"
    }
   ],
   "source": [
    "houses_data.hist(bins=50,figsize=(20,15), color=\"green\")\n"
   ]
  },
  {
   "cell_type": "code",
   "execution_count": 13,
   "id": "beneficial-principle",
   "metadata": {},
   "outputs": [
    {
     "data": {
      "text/plain": [
       "<AxesSubplot:xlabel='RM'>"
      ]
     },
     "execution_count": 13,
     "metadata": {},
     "output_type": "execute_result"
    },
    {
     "data": {
      "image/png": "[encoded data removed]",
      "text/plain": [
       "<Figure size 432x288 with 1 Axes>"
      ]
     },
     "metadata": {
      "needs_background": "light"
     },
     "output_type": "display_data"
    }
   ],
   "source": [
    "houses_data.plot(x='RM', y='MEDV', style='o', color=\"red\")"
   ]
  },
  {
   "cell_type": "code",
   "execution_count": null,
   "id": "subject-prison",
   "metadata": {},
   "outputs": [],
   "source": [
    "\n"
   ]
  },
  {
   "cell_type": "markdown",
   "id": "given-official",
   "metadata": {},
   "source": [
    " "
   ]
  },
  {
   "cell_type": "code",
   "execution_count": 14,
   "id": "logical-duncan",
   "metadata": {},
   "outputs": [],
   "source": [
    "def bar_plot(variable):\n",
    "    var = houses_data[variable]\n",
    "    varValue = var.value_counts()\n",
    "    plt.figure(figsize=(9,3))\n",
    "    plt.bar(varValue.index, varValue,color = \"orange\", edgecolor = \"black\", linewidth = 2)\n",
    "    plt.xticks(varValue.index, varValue.index.values)\n",
    "    plt.ylabel(\"frequency\")\n",
    "    plt.title(variable)\n",
    "    plt.show()"
   ]
  },
  {
   "cell_type": "code",
   "execution_count": 15,
   "id": "close-mercury",
   "metadata": {},
   "outputs": [
    {
     "data": {
      "image/png": "[encoded data removed]",
      "text/plain": [
       "<Figure size 648x216 with 1 Axes>"
      ]
     },
     "metadata": {
      "needs_background": "light"
     },
     "output_type": "display_data"
    },
    {
     "data": {
      "image/png": "[encoded data removed]",
      "text/plain": [
       "<Figure size 648x216 with 1 Axes>"
      ]
     },
     "metadata": {
      "needs_background": "light"
     },
     "output_type": "display_data"
    },
    {
     "data": {
      "image/png": "[encoded data removed]",
      "text/plain": [
       "<Figure size 648x216 with 1 Axes>"
      ]
     },
     "metadata": {
      "needs_background": "light"
     },
     "output_type": "display_data"
    },
    {
     "data": {
      "image/png": "[encoded data removed]",
      "text/plain": [
       "<Figure size 648x216 with 1 Axes>"
      ]
     },
     "metadata": {
      "needs_background": "light"
     },
     "output_type": "display_data"
    },
    {
     "data": {
      "image/png": "[encoded data removed]",
      "text/plain": [
       "<Figure size 648x216 with 1 Axes>"
      ]
     },
     "metadata": {
      "needs_background": "light"
     },
     "output_type": "display_data"
    },
    {
     "data": {
      "image/png": "[encoded data removed]",
      "text/plain": [
       "<Figure size 648x216 with 1 Axes>"
      ]
     },
     "metadata": {
      "needs_background": "light"
     },
     "output_type": "display_data"
    },
    {
     "data": {
      "image/png": "[encoded data removed]",
      "text/plain": [
       "<Figure size 648x216 with 1 Axes>"
      ]
     },
     "metadata": {
      "needs_background": "light"
     },
     "output_type": "display_data"
    },
    {
     "data": {
      "image/png": "[encoded data removed]",
      "text/plain": [
       "<Figure size 648x216 with 1 Axes>"
      ]
     },
     "metadata": {
      "needs_background": "light"
     },
     "output_type": "display_data"
    },
    {
     "data": {
      "image/png": "[encoded data removed]",
      "text/plain": [
       "<Figure size 648x216 with 1 Axes>"
      ]
     },
     "metadata": {
      "needs_background": "light"
     },
     "output_type": "display_data"
    },
    {
     "data": {
      "image/png": "[encoded data removed]",
      "text/plain": [
       "<Figure size 648x216 with 1 Axes>"
      ]
     },
     "metadata": {
      "needs_background": "light"
     },
     "output_type": "display_data"
    },
    {
     "data": {
      "image/png": "[encoded data removed]",
      "text/plain": [
       "<Figure size 648x216 with 1 Axes>"
      ]
     },
     "metadata": {
      "needs_background": "light"
     },
     "output_type": "display_data"
    },
    {
     "data": {
      "image/png": "[encoded data removed]",
      "text/plain": [
       "<Figure size 648x216 with 1 Axes>"
      ]
     },
     "metadata": {
      "needs_background": "light"
     },
     "output_type": "display_data"
    },
    {
     "data": {
      "image/png": "[encoded data removed]",
      "text/plain": [
       "<Figure size 648x216 with 1 Axes>"
      ]
     },
     "metadata": {
      "needs_background": "light"
     },
     "output_type": "display_data"
    },
    {
     "data": {
      "image/png": "[encoded data removed]",
      "text/plain": [
       "<Figure size 648x216 with 1 Axes>"
      ]
     },
     "metadata": {
      "needs_background": "light"
     },
     "output_type": "display_data"
    }
   ],
   "source": [
    "from matplotlib import pyplot as plt\n",
    "cols= houses_data.columns\n",
    "for col in cols:\n",
    "    bar_plot(col)"
   ]
  },
  {
   "cell_type": "markdown",
   "id": "grave-impossible",
   "metadata": {},
   "source": [
    " "
   ]
  },
  {
   "cell_type": "code",
   "execution_count": 16,
   "id": "opponent-constraint",
   "metadata": {},
   "outputs": [],
   "source": [
    "def plot_hist(variable):\n",
    "    plt.figure(figsize=(9,3))\n",
    "    plt.hist(houses_data[variable], color='red')\n",
    "    plt.xlabel(variable)\n",
    "    plt.ylabel(\"Frequency\")\n",
    "    plt.title(\"{} distribution with hist \".format(variable))\n",
    "    plt.show()"
   ]
  },
  {
   "cell_type": "code",
   "execution_count": 17,
   "id": "three-korean",
   "metadata": {},
   "outputs": [
    {
     "data": {
      "image/png": "[encoded data removed]",
      "text/plain": [
       "<Figure size 648x216 with 1 Axes>"
      ]
     },
     "metadata": {
      "needs_background": "light"
     },
     "output_type": "display_data"
    },
    {
     "data": {
      "image/png": "[encoded data removed]",
      "text/plain": [
       "<Figure size 648x216 with 1 Axes>"
      ]
     },
     "metadata": {
      "needs_background": "light"
     },
     "output_type": "display_data"
    },
    {
     "data": {
      "image/png": "[encoded data removed]",
      "text/plain": [
       "<Figure size 648x216 with 1 Axes>"
      ]
     },
     "metadata": {
      "needs_background": "light"
     },
     "output_type": "display_data"
    },
    {
     "data": {
      "image/png": "[encoded data removed]",
      "text/plain": [
       "<Figure size 648x216 with 1 Axes>"
      ]
     },
     "metadata": {
      "needs_background": "light"
     },
     "output_type": "display_data"
    },
    {
     "data": {
      "image/png": "[encoded data removed]",
      "text/plain": [
       "<Figure size 648x216 with 1 Axes>"
      ]
     },
     "metadata": {
      "needs_background": "light"
     },
     "output_type": "display_data"
    },
    {
     "data": {
      "image/png": "[encoded data removed]",
      "text/plain": [
       "<Figure size 648x216 with 1 Axes>"
      ]
     },
     "metadata": {
      "needs_background": "light"
     },
     "output_type": "display_data"
    },
    {
     "data": {
      "image/png": "[encoded data removed]",
      "text/plain": [
       "<Figure size 648x216 with 1 Axes>"
      ]
     },
     "metadata": {
      "needs_background": "light"
     },
     "output_type": "display_data"
    },
    {
     "data": {
      "image/png": "[encoded data removed]",
      "text/plain": [
       "<Figure size 648x216 with 1 Axes>"
      ]
     },
     "metadata": {
      "needs_background": "light"
     },
     "output_type": "display_data"
    },
    {
     "data": {
      "image/png": "[encoded data removed]",
      "text/plain": [
       "<Figure size 648x216 with 1 Axes>"
      ]
     },
     "metadata": {
      "needs_background": "light"
     },
     "output_type": "display_data"
    },
    {
     "data": {
      "image/png": "[encoded data removed]",
      "text/plain": [
       "<Figure size 648x216 with 1 Axes>"
      ]
     },
     "metadata": {
      "needs_background": "light"
     },
     "output_type": "display_data"
    },
    {
     "data": {
      "image/png": "[encoded data removed]",
      "text/plain": [
       "<Figure size 648x216 with 1 Axes>"
      ]
     },
     "metadata": {
      "needs_background": "light"
     },
     "output_type": "display_data"
    },
    {
     "data": {
      "image/png": "[encoded data removed]",
      "text/plain": [
       "<Figure size 648x216 with 1 Axes>"
      ]
     },
     "metadata": {
      "needs_background": "light"
     },
     "output_type": "display_data"
    },
    {
     "data": {
      "image/png": "[encoded data removed]",
      "text/plain": [
       "<Figure size 648x216 with 1 Axes>"
      ]
     },
     "metadata": {
      "needs_background": "light"
     },
     "output_type": "display_data"
    },
    {
     "data": {
      "image/png": "[encoded data removed]",
      "text/plain": [
       "<Figure size 648x216 with 1 Axes>"
      ]
     },
     "metadata": {
      "needs_background": "light"
     },
     "output_type": "display_data"
    }
   ],
   "source": [
    "numericVar = houses_data.columns\n",
    "for n in numericVar:\n",
    "    plot_hist(n)"
   ]
  },
  {
   "cell_type": "markdown",
   "id": "transsexual-penguin",
   "metadata": {},
   "source": [
    " "
   ]
  },
  {
   "cell_type": "code",
   "execution_count": 18,
   "id": "stupid-arrow",
   "metadata": {},
   "outputs": [
    {
     "data": {
      "text/plain": [
       "<matplotlib.collections.PathCollection at 0x189997275e0>"
      ]
     },
     "execution_count": 18,
     "metadata": {},
     "output_type": "execute_result"
    },
    {
     "data": {
      "image/png": "[encoded data removed]",
      "text/plain": [
       "<Figure size 432x288 with 1 Axes>"
      ]
     },
     "metadata": {
      "needs_background": "light"
     },
     "output_type": "display_data"
    }
   ],
   "source": [
    "plt.scatter(houses_data[\"AGE\"],houses_data[\"MEDV\"],color=\"green\")"
   ]
  },
  {
   "cell_type": "code",
   "execution_count": 19,
   "id": "documented-insulation",
   "metadata": {},
   "outputs": [
    {
     "data": {
      "text/plain": [
       "<AxesSubplot:xlabel='TAX'>"
      ]
     },
     "execution_count": 19,
     "metadata": {},
     "output_type": "execute_result"
    },
    {
     "data": {
      "image/png": "[encoded data removed]",
      "text/plain": [
       "<Figure size 432x288 with 1 Axes>"
      ]
     },
     "metadata": {
      "needs_background": "light"
     },
     "output_type": "display_data"
    }
   ],
   "source": [
    "houses_data.plot(x=\"TAX\", y=\"MEDV\", kind=\"bar\")"
   ]
  },
  {
   "cell_type": "markdown",
   "id": "organized-engagement",
   "metadata": {},
   "source": [
    "# Understanding the Data with Graphs"
   ]
  },
  {
   "cell_type": "code",
   "execution_count": 20,
   "id": "burning-puzzle",
   "metadata": {},
   "outputs": [
    {
     "data": {
      "text/plain": [
       "<AxesSubplot:>"
      ]
     },
     "execution_count": 20,
     "metadata": {},
     "output_type": "execute_result"
    },
    {
     "data": {
      "image/png": "[encoded data removed]",
      "text/plain": [
       "<Figure size 432x288 with 2 Axes>"
      ]
     },
     "metadata": {
      "needs_background": "light"
     },
     "output_type": "display_data"
    }
   ],
   "source": [
    "# Understanding cor relation\n",
    "import seaborn as sns\n",
    "sns.heatmap(houses_data.corr(),annot=True)"
   ]
  },
  {
   "cell_type": "code",
   "execution_count": 21,
   "id": "prepared-jesus",
   "metadata": {},
   "outputs": [
    {
     "data": {
      "text/plain": [
       "<AxesSubplot:>"
      ]
     },
     "execution_count": 21,
     "metadata": {},
     "output_type": "execute_result"
    },
    {
     "data": {
      "image/png": "[encoded data removed]",
      "text/plain": [
       "<Figure size 432x288 with 1 Axes>"
      ]
     },
     "metadata": {
      "needs_background": "light"
     },
     "output_type": "display_data"
    }
   ],
   "source": [
    "sns.scatterplot(data=houses_data)"
   ]
  },
  {
   "cell_type": "markdown",
   "id": "becoming-plumbing",
   "metadata": {},
   "source": [
    " "
   ]
  },
  {
   "cell_type": "markdown",
   "id": "rough-benjamin",
   "metadata": {},
   "source": [
    "# Splitting the Data"
   ]
  },
  {
   "cell_type": "code",
   "execution_count": 22,
   "id": "anonymous-stereo",
   "metadata": {},
   "outputs": [],
   "source": [
    "# in OUrder to make our Model we have to split our\n",
    "# whole Dataset into two pieces \n",
    "# 1. Training data\n",
    "# 2. Testing data"
   ]
  },
  {
   "cell_type": "code",
   "execution_count": 23,
   "id": "committed-alarm",
   "metadata": {},
   "outputs": [],
   "source": [
    "import numpy as np\n",
    "def split_train_test(data, test_ratio):\n",
    "    np.random.seed(32)\n",
    "    shuffled = np.random.permutation(len(data))\n",
    "    test_set_size = int(len(data) * test_ratio)\n",
    "    test_indices = shuffled[:test_set_size]\n",
    "    train_indices = shuffled[test_set_size:] \n",
    "    return data.iloc[train_indices], data.iloc[test_indices]"
   ]
  },
  {
   "cell_type": "code",
   "execution_count": 24,
   "id": "friendly-album",
   "metadata": {},
   "outputs": [],
   "source": [
    "train_set, test_set = split_train_test(houses_data, 0.2)\n",
    "# it is always a good practice to split the data in \n",
    "# 1. 20 percent for testing\n",
    "# 2. 80 percent for Training"
   ]
  },
  {
   "cell_type": "code",
   "execution_count": 25,
   "id": "imported-layout",
   "metadata": {},
   "outputs": [
    {
     "name": "stdout",
     "output_type": "stream",
     "text": [
      "Train set Size:          CRIM    ZN  INDUS  CHAS    NOX     RM    AGE     DIS  RAD  TAX  \\\n",
      "328   0.06617   0.0   3.24     0  0.460  5.868   25.8  5.2146    4  430   \n",
      "170   1.20742   0.0  19.58     0  0.605  5.875   94.6  2.4259    5  403   \n",
      "273   0.22188  20.0   6.96     1  0.464  7.691   51.8  4.3665    3  223   \n",
      "383   7.99248   0.0  18.10     0  0.700  5.520  100.0  1.5331   24  666   \n",
      "32    1.38799   0.0   8.14     0  0.538  5.950   82.0  3.9900    4  307   \n",
      "..        ...   ...    ...   ...    ...    ...    ...     ...  ...  ...   \n",
      "380  88.97620   0.0  18.10     0  0.671  6.968   91.9  1.4165   24  666   \n",
      "310   2.63548   0.0   9.90     0  0.544  4.973   37.8  2.5194    4  304   \n",
      "389   8.15174   0.0  18.10     0  0.700  5.390   98.9  1.7281   24  666   \n",
      "43    0.15936   0.0   6.91     0  0.448  6.211    6.5  5.7209    3  233   \n",
      "215   0.19802   0.0  10.59     0  0.489  6.182   42.4  3.9454    4  277   \n",
      "\n",
      "     PTRATIO       B  LSTAT  MEDV  \n",
      "328     16.9  382.44   9.97  19.3  \n",
      "170     14.7  292.29  14.43  17.4  \n",
      "273     18.6  390.77   6.58  35.2  \n",
      "383     20.2  396.90  24.56  12.3  \n",
      "32      21.0  232.60  27.71  13.2  \n",
      "..       ...     ...    ...   ...  \n",
      "380     20.2  396.90  17.21  10.4  \n",
      "310     18.4  350.45  12.64  16.1  \n",
      "389     20.2  396.90  20.85  11.5  \n",
      "43      17.9  394.46   7.44  24.7  \n",
      "215     18.6  393.63   9.47  25.0  \n",
      "\n",
      "[405 rows x 14 columns]\n",
      "Test set Size:         CRIM    ZN  INDUS  CHAS    NOX     RM   AGE     DIS  RAD  TAX  \\\n",
      "27   0.95577   0.0   8.14     0  0.538  6.047  88.8  4.4534    4  307   \n",
      "295  0.12932   0.0  13.92     0  0.437  6.678  31.1  5.9604    4  289   \n",
      "144  2.77974   0.0  19.58     0  0.871  4.903  97.8  1.3459    5  403   \n",
      "255  0.03548  80.0   3.64     0  0.392  5.876  19.1  9.2203    1  315   \n",
      "483  2.81838   0.0  18.10     0  0.532  5.762  40.3  4.0983   24  666   \n",
      "..       ...   ...    ...   ...    ...    ...   ...     ...  ...  ...   \n",
      "96   0.11504   0.0   2.89     0  0.445    NaN  69.6  3.4952    2  276   \n",
      "70   0.08826   0.0  10.81     0  0.413  6.417   6.6  5.2873    4  305   \n",
      "464  7.83932   0.0  18.10     0  0.655  6.209  65.4  2.9634   24  666   \n",
      "366  3.69695   0.0  18.10     0  0.718  4.963  91.4  1.7523   24  666   \n",
      "458  7.75223   0.0  18.10     0  0.713  6.301  83.7  2.7831   24  666   \n",
      "\n",
      "     PTRATIO       B  LSTAT  MEDV  \n",
      "27      21.0  306.38  17.28  14.8  \n",
      "295     16.0  396.90   6.27  28.6  \n",
      "144     14.7  396.90  29.29  11.8  \n",
      "255     16.4  395.18   9.25  20.9  \n",
      "483     20.2  392.92  10.42  21.8  \n",
      "..       ...     ...    ...   ...  \n",
      "96      18.0  391.83  11.34  21.4  \n",
      "70      19.2  383.73   6.72  24.2  \n",
      "464     20.2  396.90  13.22  21.4  \n",
      "366     20.2  316.03  14.00  21.9  \n",
      "458     20.2  272.21  16.23  14.9  \n",
      "\n",
      "[101 rows x 14 columns]\n",
      "Train set Size: 405\n",
      "Test set Size: 101\n"
     ]
    }
   ],
   "source": [
    "print(f\"Train set Size: {train_set}\")\n",
    "print(f\"Test set Size: {test_set}\")\n",
    "print(f\"Train set Size: {len(train_set)}\")\n",
    "print(f\"Test set Size: {len(test_set)}\")"
   ]
  },
  {
   "cell_type": "code",
   "execution_count": 26,
   "id": "honey-blake",
   "metadata": {},
   "outputs": [],
   "source": [
    "# The same splitting of the Data can be done by using the \n",
    "# Train Test Split Class in Scikit Learn\n",
    "from sklearn.model_selection import train_test_split\n",
    "train_set, test_set  = train_test_split(houses_data, test_size=0.2, random_state=42)"
   ]
  },
  {
   "cell_type": "code",
   "execution_count": 27,
   "id": "sealed-union",
   "metadata": {},
   "outputs": [
    {
     "name": "stdout",
     "output_type": "stream",
     "text": [
      "Train set Size:          CRIM    ZN  INDUS  CHAS     NOX     RM   AGE     DIS  RAD  TAX  \\\n",
      "477  15.02340   0.0  18.10     0  0.6140  5.304  97.3  2.1007   24  666   \n",
      "15    0.62739   0.0   8.14     0  0.5380  5.834  56.5  4.4986    4  307   \n",
      "332   0.03466  35.0   6.06     0  0.4379  6.031  23.3  6.6407    1  304   \n",
      "423   7.05042   0.0  18.10     0  0.6140  6.103  85.1  2.0218   24  666   \n",
      "19    0.72580   0.0   8.14     0  0.5380  5.727  69.5  3.7965    4  307   \n",
      "..        ...   ...    ...   ...     ...    ...   ...     ...  ...  ...   \n",
      "106   0.17120   0.0   8.56     0  0.5200  5.836  91.9  2.2110    5  384   \n",
      "270   0.29916  20.0   6.96     0  0.4640  5.856  42.1  4.4290    3  223   \n",
      "348   0.01501  80.0   2.01     0  0.4350  6.635  29.7  8.3440    4  280   \n",
      "435  11.16040   0.0  18.10     0  0.7400  6.629  94.6  2.1247   24  666   \n",
      "102   0.22876   0.0   8.56     0  0.5200  6.405  85.4  2.7147    5  384   \n",
      "\n",
      "     PTRATIO       B  LSTAT  MEDV  \n",
      "477     20.2  349.48  24.91  12.0  \n",
      "15      21.0  395.62   8.47  19.9  \n",
      "332     16.9  362.25   7.83  19.4  \n",
      "423     20.2    2.52  23.29  13.4  \n",
      "19      21.0  390.95  11.28  18.2  \n",
      "..       ...     ...    ...   ...  \n",
      "106     20.9  395.67  18.66  19.5  \n",
      "270     18.6  388.65  13.00  21.1  \n",
      "348     17.0  390.94   5.99  24.5  \n",
      "435     20.2  109.85  23.27  13.4  \n",
      "102     20.9   70.80  10.63  18.6  \n",
      "\n",
      "[404 rows x 14 columns]\n",
      "Test set Size:          CRIM    ZN  INDUS  CHAS    NOX     RM    AGE     DIS  RAD  TAX  \\\n",
      "173   0.09178   0.0   4.05     0  0.510  6.416   84.1  2.6463    5  296   \n",
      "274   0.05644  40.0   6.41     1  0.447  6.758   32.9  4.0776    4  254   \n",
      "491   0.10574   0.0  27.74     0  0.609  5.983   98.8  1.8681    4  711   \n",
      "72    0.09164   0.0  10.81     0  0.413  6.065    7.8  5.2873    4  305   \n",
      "452   5.09017   0.0  18.10     0  0.713  6.297   91.8  2.3682   24  666   \n",
      "..        ...   ...    ...   ...    ...    ...    ...     ...  ...  ...   \n",
      "412  18.81100   0.0  18.10     0  0.597  4.628  100.0  1.5539   24  666   \n",
      "436  14.42080   0.0  18.10     0  0.740  6.461   93.3  2.0026   24  666   \n",
      "411  14.05070   0.0  18.10     0  0.597  6.657  100.0  1.5275   24  666   \n",
      "86    0.05188   0.0   4.49     0  0.449  6.015   45.1  4.4272    3  247   \n",
      "75    0.09512   0.0  12.83     0  0.437  6.286   45.0  4.5026    5  398   \n",
      "\n",
      "     PTRATIO       B  LSTAT  MEDV  \n",
      "173     16.6  395.50   9.04  23.6  \n",
      "274     17.6  396.90   3.53  32.4  \n",
      "491     20.1  390.11  18.07  13.6  \n",
      "72      19.2  390.91   5.52  22.8  \n",
      "452     20.2  385.09  17.27  16.1  \n",
      "..       ...     ...    ...   ...  \n",
      "412     20.2   28.79  34.37  17.9  \n",
      "436     20.2   27.49  18.05   9.6  \n",
      "411     20.2   35.05  21.22  17.2  \n",
      "86      18.5  395.99  12.86  22.5  \n",
      "75      18.7  383.23   8.94  21.4  \n",
      "\n",
      "[102 rows x 14 columns]\n",
      "Train set Size: 404\n",
      "Test set Size: 102\n"
     ]
    }
   ],
   "source": [
    "print(f\"Train set Size: {train_set}\")\n",
    "print(f\"Test set Size: {test_set}\")\n",
    "print(f\"Train set Size: {len(train_set)}\")\n",
    "print(f\"Test set Size: {len(test_set)}\")"
   ]
  },
  {
   "cell_type": "markdown",
   "id": "obvious-message",
   "metadata": {},
   "source": [
    " "
   ]
  },
  {
   "cell_type": "code",
   "execution_count": 28,
   "id": "super-infrared",
   "metadata": {},
   "outputs": [],
   "source": [
    "# The main Problem in the above Data Splitting is that it\n",
    "# does not equally Distribut the Data points\n",
    "# we need a procedure where our Data point is eqally distribute "
   ]
  },
  {
   "cell_type": "code",
   "execution_count": 29,
   "id": "adapted-arbitration",
   "metadata": {},
   "outputs": [],
   "source": [
    "from sklearn.model_selection import StratifiedShuffleSplit\n",
    "split = StratifiedShuffleSplit(n_splits=1, test_size=0.2, random_state=42)\n",
    "for train_index, test_index in split.split(houses_data, houses_data['CHAS']):\n",
    "    strat_train_set = houses_data.loc[train_index]\n",
    "    strat_test_set = houses_data.loc[test_index]"
   ]
  },
  {
   "cell_type": "code",
   "execution_count": 30,
   "id": "related-workplace",
   "metadata": {},
   "outputs": [
    {
     "data": {
      "text/plain": [
       "0    95\n",
       "1     7\n",
       "Name: CHAS, dtype: int64"
      ]
     },
     "execution_count": 30,
     "metadata": {},
     "output_type": "execute_result"
    }
   ],
   "source": [
    "strat_test_set['CHAS'].value_counts()"
   ]
  },
  {
   "cell_type": "code",
   "execution_count": 31,
   "id": "funky-threat",
   "metadata": {},
   "outputs": [
    {
     "data": {
      "text/plain": [
       "0    376\n",
       "1     28\n",
       "Name: CHAS, dtype: int64"
      ]
     },
     "execution_count": 31,
     "metadata": {},
     "output_type": "execute_result"
    }
   ],
   "source": [
    "strat_train_set['CHAS'].value_counts()"
   ]
  },
  {
   "cell_type": "code",
   "execution_count": 32,
   "id": "delayed-memphis",
   "metadata": {},
   "outputs": [
    {
     "data": {
      "text/html": [
       "<div>\n",
       "<style scoped>\n",
       "    .dataframe tbody tr th:only-of-type {\n",
       "        vertical-align: middle;\n",
       "    }\n",
       "\n",
       "    .dataframe tbody tr th {\n",
       "        vertical-align: top;\n",
       "    }\n",
       "\n",
       "    .dataframe thead th {\n",
       "        text-align: right;\n",
       "    }\n",
       "</style>\n",
       "<table border=\"1\" class=\"dataframe\">\n",
       "  <thead>\n",
       "    <tr style=\"text-align: right;\">\n",
       "      <th></th>\n",
       "      <th>CRIM</th>\n",
       "      <th>ZN</th>\n",
       "      <th>INDUS</th>\n",
       "      <th>CHAS</th>\n",
       "      <th>NOX</th>\n",
       "      <th>RM</th>\n",
       "      <th>AGE</th>\n",
       "      <th>DIS</th>\n",
       "      <th>RAD</th>\n",
       "      <th>TAX</th>\n",
       "      <th>PTRATIO</th>\n",
       "      <th>B</th>\n",
       "      <th>LSTAT</th>\n",
       "      <th>MEDV</th>\n",
       "    </tr>\n",
       "  </thead>\n",
       "  <tbody>\n",
       "    <tr>\n",
       "      <th>254</th>\n",
       "      <td>0.04819</td>\n",
       "      <td>80.0</td>\n",
       "      <td>3.64</td>\n",
       "      <td>0</td>\n",
       "      <td>0.392</td>\n",
       "      <td>6.108</td>\n",
       "      <td>32.0</td>\n",
       "      <td>9.2203</td>\n",
       "      <td>1</td>\n",
       "      <td>315</td>\n",
       "      <td>16.4</td>\n",
       "      <td>392.89</td>\n",
       "      <td>6.57</td>\n",
       "      <td>21.9</td>\n",
       "    </tr>\n",
       "    <tr>\n",
       "      <th>348</th>\n",
       "      <td>0.01501</td>\n",
       "      <td>80.0</td>\n",
       "      <td>2.01</td>\n",
       "      <td>0</td>\n",
       "      <td>0.435</td>\n",
       "      <td>6.635</td>\n",
       "      <td>29.7</td>\n",
       "      <td>8.3440</td>\n",
       "      <td>4</td>\n",
       "      <td>280</td>\n",
       "      <td>17.0</td>\n",
       "      <td>390.94</td>\n",
       "      <td>5.99</td>\n",
       "      <td>24.5</td>\n",
       "    </tr>\n",
       "    <tr>\n",
       "      <th>476</th>\n",
       "      <td>4.87141</td>\n",
       "      <td>0.0</td>\n",
       "      <td>18.10</td>\n",
       "      <td>0</td>\n",
       "      <td>0.614</td>\n",
       "      <td>6.484</td>\n",
       "      <td>93.6</td>\n",
       "      <td>2.3053</td>\n",
       "      <td>24</td>\n",
       "      <td>666</td>\n",
       "      <td>20.2</td>\n",
       "      <td>396.21</td>\n",
       "      <td>18.68</td>\n",
       "      <td>16.7</td>\n",
       "    </tr>\n",
       "    <tr>\n",
       "      <th>321</th>\n",
       "      <td>0.18159</td>\n",
       "      <td>0.0</td>\n",
       "      <td>7.38</td>\n",
       "      <td>0</td>\n",
       "      <td>0.493</td>\n",
       "      <td>6.376</td>\n",
       "      <td>54.3</td>\n",
       "      <td>4.5404</td>\n",
       "      <td>5</td>\n",
       "      <td>287</td>\n",
       "      <td>19.6</td>\n",
       "      <td>396.90</td>\n",
       "      <td>6.87</td>\n",
       "      <td>23.1</td>\n",
       "    </tr>\n",
       "    <tr>\n",
       "      <th>326</th>\n",
       "      <td>0.30347</td>\n",
       "      <td>0.0</td>\n",
       "      <td>7.38</td>\n",
       "      <td>0</td>\n",
       "      <td>0.493</td>\n",
       "      <td>6.312</td>\n",
       "      <td>28.9</td>\n",
       "      <td>5.4159</td>\n",
       "      <td>5</td>\n",
       "      <td>287</td>\n",
       "      <td>19.6</td>\n",
       "      <td>396.90</td>\n",
       "      <td>6.15</td>\n",
       "      <td>23.0</td>\n",
       "    </tr>\n",
       "    <tr>\n",
       "      <th>...</th>\n",
       "      <td>...</td>\n",
       "      <td>...</td>\n",
       "      <td>...</td>\n",
       "      <td>...</td>\n",
       "      <td>...</td>\n",
       "      <td>...</td>\n",
       "      <td>...</td>\n",
       "      <td>...</td>\n",
       "      <td>...</td>\n",
       "      <td>...</td>\n",
       "      <td>...</td>\n",
       "      <td>...</td>\n",
       "      <td>...</td>\n",
       "      <td>...</td>\n",
       "    </tr>\n",
       "    <tr>\n",
       "      <th>155</th>\n",
       "      <td>3.53501</td>\n",
       "      <td>0.0</td>\n",
       "      <td>19.58</td>\n",
       "      <td>1</td>\n",
       "      <td>0.871</td>\n",
       "      <td>6.152</td>\n",
       "      <td>82.6</td>\n",
       "      <td>1.7455</td>\n",
       "      <td>5</td>\n",
       "      <td>403</td>\n",
       "      <td>14.7</td>\n",
       "      <td>88.01</td>\n",
       "      <td>15.02</td>\n",
       "      <td>15.6</td>\n",
       "    </tr>\n",
       "    <tr>\n",
       "      <th>423</th>\n",
       "      <td>7.05042</td>\n",
       "      <td>0.0</td>\n",
       "      <td>18.10</td>\n",
       "      <td>0</td>\n",
       "      <td>0.614</td>\n",
       "      <td>6.103</td>\n",
       "      <td>85.1</td>\n",
       "      <td>2.0218</td>\n",
       "      <td>24</td>\n",
       "      <td>666</td>\n",
       "      <td>20.2</td>\n",
       "      <td>2.52</td>\n",
       "      <td>23.29</td>\n",
       "      <td>13.4</td>\n",
       "    </tr>\n",
       "    <tr>\n",
       "      <th>98</th>\n",
       "      <td>0.08187</td>\n",
       "      <td>0.0</td>\n",
       "      <td>2.89</td>\n",
       "      <td>0</td>\n",
       "      <td>0.445</td>\n",
       "      <td>7.820</td>\n",
       "      <td>36.9</td>\n",
       "      <td>3.4952</td>\n",
       "      <td>2</td>\n",
       "      <td>276</td>\n",
       "      <td>18.0</td>\n",
       "      <td>393.53</td>\n",
       "      <td>3.57</td>\n",
       "      <td>43.8</td>\n",
       "    </tr>\n",
       "    <tr>\n",
       "      <th>455</th>\n",
       "      <td>4.75237</td>\n",
       "      <td>0.0</td>\n",
       "      <td>18.10</td>\n",
       "      <td>0</td>\n",
       "      <td>0.713</td>\n",
       "      <td>6.525</td>\n",
       "      <td>86.5</td>\n",
       "      <td>2.4358</td>\n",
       "      <td>24</td>\n",
       "      <td>666</td>\n",
       "      <td>20.2</td>\n",
       "      <td>50.92</td>\n",
       "      <td>18.13</td>\n",
       "      <td>14.1</td>\n",
       "    </tr>\n",
       "    <tr>\n",
       "      <th>216</th>\n",
       "      <td>0.04560</td>\n",
       "      <td>0.0</td>\n",
       "      <td>13.89</td>\n",
       "      <td>1</td>\n",
       "      <td>0.550</td>\n",
       "      <td>5.888</td>\n",
       "      <td>56.0</td>\n",
       "      <td>3.1121</td>\n",
       "      <td>5</td>\n",
       "      <td>276</td>\n",
       "      <td>16.4</td>\n",
       "      <td>392.80</td>\n",
       "      <td>13.51</td>\n",
       "      <td>23.3</td>\n",
       "    </tr>\n",
       "  </tbody>\n",
       "</table>\n",
       "<p>404 rows × 14 columns</p>\n",
       "</div>"
      ],
      "text/plain": [
       "        CRIM    ZN  INDUS  CHAS    NOX     RM   AGE     DIS  RAD  TAX  \\\n",
       "254  0.04819  80.0   3.64     0  0.392  6.108  32.0  9.2203    1  315   \n",
       "348  0.01501  80.0   2.01     0  0.435  6.635  29.7  8.3440    4  280   \n",
       "476  4.87141   0.0  18.10     0  0.614  6.484  93.6  2.3053   24  666   \n",
       "321  0.18159   0.0   7.38     0  0.493  6.376  54.3  4.5404    5  287   \n",
       "326  0.30347   0.0   7.38     0  0.493  6.312  28.9  5.4159    5  287   \n",
       "..       ...   ...    ...   ...    ...    ...   ...     ...  ...  ...   \n",
       "155  3.53501   0.0  19.58     1  0.871  6.152  82.6  1.7455    5  403   \n",
       "423  7.05042   0.0  18.10     0  0.614  6.103  85.1  2.0218   24  666   \n",
       "98   0.08187   0.0   2.89     0  0.445  7.820  36.9  3.4952    2  276   \n",
       "455  4.75237   0.0  18.10     0  0.713  6.525  86.5  2.4358   24  666   \n",
       "216  0.04560   0.0  13.89     1  0.550  5.888  56.0  3.1121    5  276   \n",
       "\n",
       "     PTRATIO       B  LSTAT  MEDV  \n",
       "254     16.4  392.89   6.57  21.9  \n",
       "348     17.0  390.94   5.99  24.5  \n",
       "476     20.2  396.21  18.68  16.7  \n",
       "321     19.6  396.90   6.87  23.1  \n",
       "326     19.6  396.90   6.15  23.0  \n",
       "..       ...     ...    ...   ...  \n",
       "155     14.7   88.01  15.02  15.6  \n",
       "423     20.2    2.52  23.29  13.4  \n",
       "98      18.0  393.53   3.57  43.8  \n",
       "455     20.2   50.92  18.13  14.1  \n",
       "216     16.4  392.80  13.51  23.3  \n",
       "\n",
       "[404 rows x 14 columns]"
      ]
     },
     "execution_count": 32,
     "metadata": {},
     "output_type": "execute_result"
    }
   ],
   "source": [
    "training_data = strat_train_set.copy()\n",
    "training_data"
   ]
  },
  {
   "cell_type": "markdown",
   "id": "lyric-alignment",
   "metadata": {},
   "source": [
    " "
   ]
  },
  {
   "cell_type": "markdown",
   "id": "rental-safety",
   "metadata": {},
   "source": [
    "# Relationship Between the Attributes of the Data"
   ]
  },
  {
   "cell_type": "code",
   "execution_count": 33,
   "id": "reliable-religion",
   "metadata": {},
   "outputs": [
    {
     "data": {
      "text/plain": [
       "MEDV       1.000000\n",
       "RM         0.680857\n",
       "B          0.361761\n",
       "ZN         0.339741\n",
       "DIS        0.240451\n",
       "CHAS       0.205066\n",
       "AGE       -0.364596\n",
       "RAD       -0.374693\n",
       "CRIM      -0.393715\n",
       "NOX       -0.422873\n",
       "TAX       -0.456657\n",
       "INDUS     -0.473516\n",
       "PTRATIO   -0.493534\n",
       "LSTAT     -0.740494\n",
       "Name: MEDV, dtype: float64"
      ]
     },
     "execution_count": 33,
     "metadata": {},
     "output_type": "execute_result"
    }
   ],
   "source": [
    "# We can check our Data for the  Correllation\n",
    "correlatoin_matrix = training_data.corr()\n",
    "correlatoin_matrix['MEDV'].sort_values(ascending=False)"
   ]
  },
  {
   "cell_type": "code",
   "execution_count": 34,
   "id": "white-grade",
   "metadata": {},
   "outputs": [
    {
     "data": {
      "text/html": [
       "<style  type=\"text/css\" >\n",
       "#T_12b40_row0_col0,#T_12b40_row1_col1,#T_12b40_row2_col2,#T_12b40_row3_col3,#T_12b40_row4_col4,#T_12b40_row5_col5,#T_12b40_row6_col6,#T_12b40_row7_col7,#T_12b40_row8_col8,#T_12b40_row9_col9,#T_12b40_row10_col10,#T_12b40_row11_col11,#T_12b40_row12_col12,#T_12b40_row13_col13{\n",
       "            background-color:  #b40426;\n",
       "            color:  #f1f1f1;\n",
       "        }#T_12b40_row0_col1,#T_12b40_row6_col5{\n",
       "            background-color:  #84a7fc;\n",
       "            color:  #000000;\n",
       "        }#T_12b40_row0_col2{\n",
       "            background-color:  #f7ba9f;\n",
       "            color:  #000000;\n",
       "        }#T_12b40_row0_col3,#T_12b40_row13_col0{\n",
       "            background-color:  #4e68d8;\n",
       "            color:  #000000;\n",
       "        }#T_12b40_row0_col4{\n",
       "            background-color:  #f7b497;\n",
       "            color:  #000000;\n",
       "        }#T_12b40_row0_col5,#T_12b40_row6_col13{\n",
       "            background-color:  #81a4fb;\n",
       "            color:  #000000;\n",
       "        }#T_12b40_row0_col6,#T_12b40_row6_col8{\n",
       "            background-color:  #f5c2aa;\n",
       "            color:  #000000;\n",
       "        }#T_12b40_row0_col7,#T_12b40_row13_col6{\n",
       "            background-color:  #80a3fa;\n",
       "            color:  #000000;\n",
       "        }#T_12b40_row0_col8,#T_12b40_row8_col0{\n",
       "            background-color:  #f39475;\n",
       "            color:  #000000;\n",
       "        }#T_12b40_row0_col9{\n",
       "            background-color:  #f59d7e;\n",
       "            color:  #000000;\n",
       "        }#T_12b40_row0_col10,#T_12b40_row10_col0{\n",
       "            background-color:  #e5d8d1;\n",
       "            color:  #000000;\n",
       "        }#T_12b40_row0_col11,#T_12b40_row4_col7,#T_12b40_row6_col1,#T_12b40_row7_col2,#T_12b40_row7_col4,#T_12b40_row7_col6,#T_12b40_row7_col9,#T_12b40_row8_col11,#T_12b40_row10_col3,#T_12b40_row11_col0,#T_12b40_row11_col8,#T_12b40_row12_col5,#T_12b40_row12_col13,#T_12b40_row13_col10,#T_12b40_row13_col12{\n",
       "            background-color:  #3b4cc0;\n",
       "            color:  #f1f1f1;\n",
       "        }#T_12b40_row0_col12,#T_12b40_row12_col9{\n",
       "            background-color:  #f7ad90;\n",
       "            color:  #000000;\n",
       "        }#T_12b40_row0_col13,#T_12b40_row9_col5,#T_12b40_row10_col11,#T_12b40_row11_col4,#T_12b40_row11_col10{\n",
       "            background-color:  #7b9ff9;\n",
       "            color:  #000000;\n",
       "        }#T_12b40_row1_col0,#T_12b40_row1_col12,#T_12b40_row4_col3,#T_12b40_row7_col10{\n",
       "            background-color:  #7699f6;\n",
       "            color:  #000000;\n",
       "        }#T_12b40_row1_col2,#T_12b40_row1_col3,#T_12b40_row1_col6,#T_12b40_row8_col3{\n",
       "            background-color:  #5875e1;\n",
       "            color:  #000000;\n",
       "        }#T_12b40_row1_col4,#T_12b40_row10_col13{\n",
       "            background-color:  #6788ee;\n",
       "            color:  #000000;\n",
       "        }#T_12b40_row1_col5{\n",
       "            background-color:  #ead4c8;\n",
       "            color:  #000000;\n",
       "        }#T_12b40_row1_col7{\n",
       "            background-color:  #ec7f63;\n",
       "            color:  #000000;\n",
       "        }#T_12b40_row1_col8{\n",
       "            background-color:  #6180e9;\n",
       "            color:  #000000;\n",
       "        }#T_12b40_row1_col9,#T_12b40_row2_col5,#T_12b40_row6_col11{\n",
       "            background-color:  #6485ec;\n",
       "            color:  #000000;\n",
       "        }#T_12b40_row1_col10,#T_12b40_row7_col0{\n",
       "            background-color:  #4f69d9;\n",
       "            color:  #000000;\n",
       "        }#T_12b40_row1_col11{\n",
       "            background-color:  #d1dae9;\n",
       "            color:  #000000;\n",
       "        }#T_12b40_row1_col13,#T_12b40_row4_col0{\n",
       "            background-color:  #f4c6af;\n",
       "            color:  #000000;\n",
       "        }#T_12b40_row2_col0,#T_12b40_row11_col7{\n",
       "            background-color:  #f2c9b4;\n",
       "            color:  #000000;\n",
       "        }#T_12b40_row2_col1{\n",
       "            background-color:  #3e51c5;\n",
       "            color:  #f1f1f1;\n",
       "        }#T_12b40_row2_col3,#T_12b40_row2_col13,#T_12b40_row5_col0,#T_12b40_row9_col1{\n",
       "            background-color:  #6b8df0;\n",
       "            color:  #000000;\n",
       "        }#T_12b40_row2_col4{\n",
       "            background-color:  #e0654f;\n",
       "            color:  #000000;\n",
       "        }#T_12b40_row2_col6{\n",
       "            background-color:  #ee8669;\n",
       "            color:  #000000;\n",
       "        }#T_12b40_row2_col7{\n",
       "            background-color:  #4358cb;\n",
       "            color:  #f1f1f1;\n",
       "        }#T_12b40_row2_col8{\n",
       "            background-color:  #f6a586;\n",
       "            color:  #000000;\n",
       "        }#T_12b40_row2_col9{\n",
       "            background-color:  #eb7d62;\n",
       "            color:  #000000;\n",
       "        }#T_12b40_row2_col10{\n",
       "            background-color:  #f0cdbb;\n",
       "            color:  #000000;\n",
       "        }#T_12b40_row2_col11,#T_12b40_row5_col12{\n",
       "            background-color:  #536edd;\n",
       "            color:  #000000;\n",
       "        }#T_12b40_row2_col12,#T_12b40_row4_col9,#T_12b40_row12_col4{\n",
       "            background-color:  #f18f71;\n",
       "            color:  #000000;\n",
       "        }#T_12b40_row3_col0{\n",
       "            background-color:  #9abbff;\n",
       "            color:  #000000;\n",
       "        }#T_12b40_row3_col1{\n",
       "            background-color:  #aec9fc;\n",
       "            color:  #000000;\n",
       "        }#T_12b40_row3_col2,#T_12b40_row3_col5,#T_12b40_row4_col10{\n",
       "            background-color:  #ccd9ed;\n",
       "            color:  #000000;\n",
       "        }#T_12b40_row3_col4{\n",
       "            background-color:  #d7dce3;\n",
       "            color:  #000000;\n",
       "        }#T_12b40_row3_col6{\n",
       "            background-color:  #d2dbe8;\n",
       "            color:  #000000;\n",
       "        }#T_12b40_row3_col7{\n",
       "            background-color:  #bbd1f8;\n",
       "            color:  #000000;\n",
       "        }#T_12b40_row3_col8,#T_12b40_row3_col9{\n",
       "            background-color:  #a3c2fe;\n",
       "            color:  #000000;\n",
       "        }#T_12b40_row3_col10{\n",
       "            background-color:  #89acfd;\n",
       "            color:  #000000;\n",
       "        }#T_12b40_row3_col11{\n",
       "            background-color:  #b3cdfb;\n",
       "            color:  #000000;\n",
       "        }#T_12b40_row3_col12{\n",
       "            background-color:  #bad0f8;\n",
       "            color:  #000000;\n",
       "        }#T_12b40_row3_col13{\n",
       "            background-color:  #e8d6cc;\n",
       "            color:  #000000;\n",
       "        }#T_12b40_row4_col1,#T_12b40_row11_col9{\n",
       "            background-color:  #455cce;\n",
       "            color:  #f1f1f1;\n",
       "        }#T_12b40_row4_col2{\n",
       "            background-color:  #e26952;\n",
       "            color:  #000000;\n",
       "        }#T_12b40_row4_col5,#T_12b40_row5_col2{\n",
       "            background-color:  #779af7;\n",
       "            color:  #000000;\n",
       "        }#T_12b40_row4_col6{\n",
       "            background-color:  #e57058;\n",
       "            color:  #000000;\n",
       "        }#T_12b40_row4_col8{\n",
       "            background-color:  #f6a283;\n",
       "            color:  #000000;\n",
       "        }#T_12b40_row4_col11,#T_12b40_row12_col11{\n",
       "            background-color:  #4b64d5;\n",
       "            color:  #f1f1f1;\n",
       "        }#T_12b40_row4_col12,#T_12b40_row6_col12,#T_12b40_row8_col4,#T_12b40_row12_col2{\n",
       "            background-color:  #f29072;\n",
       "            color:  #000000;\n",
       "        }#T_12b40_row4_col13{\n",
       "            background-color:  #7597f6;\n",
       "            color:  #000000;\n",
       "        }#T_12b40_row5_col1,#T_12b40_row5_col7{\n",
       "            background-color:  #e9d5cb;\n",
       "            color:  #000000;\n",
       "        }#T_12b40_row5_col3{\n",
       "            background-color:  #7da0f9;\n",
       "            color:  #000000;\n",
       "        }#T_12b40_row5_col4{\n",
       "            background-color:  #92b4fe;\n",
       "            color:  #000000;\n",
       "        }#T_12b40_row5_col6{\n",
       "            background-color:  #98b9ff;\n",
       "            color:  #000000;\n",
       "        }#T_12b40_row5_col8,#T_12b40_row11_col12,#T_12b40_row13_col4{\n",
       "            background-color:  #799cf8;\n",
       "            color:  #000000;\n",
       "        }#T_12b40_row5_col9,#T_12b40_row9_col13{\n",
       "            background-color:  #6e90f2;\n",
       "            color:  #000000;\n",
       "        }#T_12b40_row5_col10{\n",
       "            background-color:  #5b7ae5;\n",
       "            color:  #000000;\n",
       "        }#T_12b40_row5_col11{\n",
       "            background-color:  #c4d5f3;\n",
       "            color:  #000000;\n",
       "        }#T_12b40_row5_col13{\n",
       "            background-color:  #ea7b60;\n",
       "            color:  #000000;\n",
       "        }#T_12b40_row6_col0,#T_12b40_row10_col6,#T_12b40_row13_col11{\n",
       "            background-color:  #edd1c2;\n",
       "            color:  #000000;\n",
       "        }#T_12b40_row6_col2{\n",
       "            background-color:  #ef886b;\n",
       "            color:  #000000;\n",
       "        }#T_12b40_row6_col3,#T_12b40_row10_col5{\n",
       "            background-color:  #7093f3;\n",
       "            color:  #000000;\n",
       "        }#T_12b40_row6_col4{\n",
       "            background-color:  #e46e56;\n",
       "            color:  #000000;\n",
       "        }#T_12b40_row6_col7{\n",
       "            background-color:  #3f53c6;\n",
       "            color:  #f1f1f1;\n",
       "        }#T_12b40_row6_col9{\n",
       "            background-color:  #f7b599;\n",
       "            color:  #000000;\n",
       "        }#T_12b40_row6_col10{\n",
       "            background-color:  #dedcdb;\n",
       "            color:  #000000;\n",
       "        }#T_12b40_row7_col1{\n",
       "            background-color:  #f08a6c;\n",
       "            color:  #000000;\n",
       "        }#T_12b40_row7_col3{\n",
       "            background-color:  #465ecf;\n",
       "            color:  #f1f1f1;\n",
       "        }#T_12b40_row7_col5{\n",
       "            background-color:  #dddcdc;\n",
       "            color:  #000000;\n",
       "        }#T_12b40_row7_col8{\n",
       "            background-color:  #3c4ec2;\n",
       "            color:  #f1f1f1;\n",
       "        }#T_12b40_row7_col11{\n",
       "            background-color:  #e6d7cf;\n",
       "            color:  #000000;\n",
       "        }#T_12b40_row7_col12,#T_12b40_row13_col2{\n",
       "            background-color:  #6687ed;\n",
       "            color:  #000000;\n",
       "        }#T_12b40_row7_col13{\n",
       "            background-color:  #ecd3c5;\n",
       "            color:  #000000;\n",
       "        }#T_12b40_row8_col1{\n",
       "            background-color:  #6f92f3;\n",
       "            color:  #000000;\n",
       "        }#T_12b40_row8_col2{\n",
       "            background-color:  #f39778;\n",
       "            color:  #000000;\n",
       "        }#T_12b40_row8_col5{\n",
       "            background-color:  #8db0fe;\n",
       "            color:  #000000;\n",
       "        }#T_12b40_row8_col6{\n",
       "            background-color:  #f7b396;\n",
       "            color:  #000000;\n",
       "        }#T_12b40_row8_col7,#T_12b40_row11_col3{\n",
       "            background-color:  #6c8ff1;\n",
       "            color:  #000000;\n",
       "        }#T_12b40_row8_col9{\n",
       "            background-color:  #c83836;\n",
       "            color:  #f1f1f1;\n",
       "        }#T_12b40_row8_col10,#T_12b40_row9_col10,#T_12b40_row10_col8{\n",
       "            background-color:  #f6bea4;\n",
       "            color:  #000000;\n",
       "        }#T_12b40_row8_col12{\n",
       "            background-color:  #f7ac8e;\n",
       "            color:  #000000;\n",
       "        }#T_12b40_row8_col13{\n",
       "            background-color:  #7ea1fa;\n",
       "            color:  #000000;\n",
       "        }#T_12b40_row9_col0,#T_12b40_row9_col12{\n",
       "            background-color:  #f5a081;\n",
       "            color:  #000000;\n",
       "        }#T_12b40_row9_col2{\n",
       "            background-color:  #e7745b;\n",
       "            color:  #000000;\n",
       "        }#T_12b40_row9_col3{\n",
       "            background-color:  #506bda;\n",
       "            color:  #000000;\n",
       "        }#T_12b40_row9_col4{\n",
       "            background-color:  #ec8165;\n",
       "            color:  #000000;\n",
       "        }#T_12b40_row9_col6{\n",
       "            background-color:  #f7a889;\n",
       "            color:  #000000;\n",
       "        }#T_12b40_row9_col7{\n",
       "            background-color:  #6384eb;\n",
       "            color:  #000000;\n",
       "        }#T_12b40_row9_col8{\n",
       "            background-color:  #ca3b37;\n",
       "            color:  #f1f1f1;\n",
       "        }#T_12b40_row9_col11{\n",
       "            background-color:  #3d50c3;\n",
       "            color:  #f1f1f1;\n",
       "        }#T_12b40_row10_col1{\n",
       "            background-color:  #5d7ce6;\n",
       "            color:  #000000;\n",
       "        }#T_12b40_row10_col2,#T_12b40_row10_col12{\n",
       "            background-color:  #f5c0a7;\n",
       "            color:  #000000;\n",
       "        }#T_12b40_row10_col4{\n",
       "            background-color:  #e3d9d3;\n",
       "            color:  #000000;\n",
       "        }#T_12b40_row10_col7{\n",
       "            background-color:  #a2c1ff;\n",
       "            color:  #000000;\n",
       "        }#T_12b40_row10_col9{\n",
       "            background-color:  #f7bca1;\n",
       "            color:  #000000;\n",
       "        }#T_12b40_row11_col1{\n",
       "            background-color:  #d8dce2;\n",
       "            color:  #000000;\n",
       "        }#T_12b40_row11_col2{\n",
       "            background-color:  #7a9df8;\n",
       "            color:  #000000;\n",
       "        }#T_12b40_row11_col5{\n",
       "            background-color:  #cfdaea;\n",
       "            color:  #000000;\n",
       "        }#T_12b40_row11_col6{\n",
       "            background-color:  #8fb1fe;\n",
       "            color:  #000000;\n",
       "        }#T_12b40_row11_col13{\n",
       "            background-color:  #f5c1a9;\n",
       "            color:  #000000;\n",
       "        }#T_12b40_row12_col0{\n",
       "            background-color:  #f6bfa6;\n",
       "            color:  #000000;\n",
       "        }#T_12b40_row12_col1{\n",
       "            background-color:  #5673e0;\n",
       "            color:  #000000;\n",
       "        }#T_12b40_row12_col3,#T_12b40_row13_col9{\n",
       "            background-color:  #4961d2;\n",
       "            color:  #f1f1f1;\n",
       "        }#T_12b40_row12_col6{\n",
       "            background-color:  #f29274;\n",
       "            color:  #000000;\n",
       "        }#T_12b40_row12_col7{\n",
       "            background-color:  #6a8bef;\n",
       "            color:  #000000;\n",
       "        }#T_12b40_row12_col8{\n",
       "            background-color:  #f6bda2;\n",
       "            color:  #000000;\n",
       "        }#T_12b40_row12_col10,#T_12b40_row13_col1{\n",
       "            background-color:  #efcfbf;\n",
       "            color:  #000000;\n",
       "        }#T_12b40_row13_col3{\n",
       "            background-color:  #9ebeff;\n",
       "            color:  #000000;\n",
       "        }#T_12b40_row13_col5{\n",
       "            background-color:  #ed8366;\n",
       "            color:  #000000;\n",
       "        }#T_12b40_row13_col7{\n",
       "            background-color:  #edd2c3;\n",
       "            color:  #000000;\n",
       "        }#T_12b40_row13_col8{\n",
       "            background-color:  #516ddb;\n",
       "            color:  #000000;\n",
       "        }</style><table id=\"T_12b40_\" ><thead>    <tr>        <th class=\"blank level0\" ></th>        <th class=\"col_heading level0 col0\" >CRIM</th>        <th class=\"col_heading level0 col1\" >ZN</th>        <th class=\"col_heading level0 col2\" >INDUS</th>        <th class=\"col_heading level0 col3\" >CHAS</th>        <th class=\"col_heading level0 col4\" >NOX</th>        <th class=\"col_heading level0 col5\" >RM</th>        <th class=\"col_heading level0 col6\" >AGE</th>        <th class=\"col_heading level0 col7\" >DIS</th>        <th class=\"col_heading level0 col8\" >RAD</th>        <th class=\"col_heading level0 col9\" >TAX</th>        <th class=\"col_heading level0 col10\" >PTRATIO</th>        <th class=\"col_heading level0 col11\" >B</th>        <th class=\"col_heading level0 col12\" >LSTAT</th>        <th class=\"col_heading level0 col13\" >MEDV</th>    </tr></thead><tbody>\n",
       "                <tr>\n",
       "                        <th id=\"T_12b40_level0_row0\" class=\"row_heading level0 row0\" >CRIM</th>\n",
       "                        <td id=\"T_12b40_row0_col0\" class=\"data row0 col0\" >1.000000</td>\n",
       "                        <td id=\"T_12b40_row0_col1\" class=\"data row0 col1\" >-0.212927</td>\n",
       "                        <td id=\"T_12b40_row0_col2\" class=\"data row0 col2\" >0.416640</td>\n",
       "                        <td id=\"T_12b40_row0_col3\" class=\"data row0 col3\" >-0.061482</td>\n",
       "                        <td id=\"T_12b40_row0_col4\" class=\"data row0 col4\" >0.430879</td>\n",
       "                        <td id=\"T_12b40_row0_col5\" class=\"data row0 col5\" >-0.257663</td>\n",
       "                        <td id=\"T_12b40_row0_col6\" class=\"data row0 col6\" >0.361890</td>\n",
       "                        <td id=\"T_12b40_row0_col7\" class=\"data row0 col7\" >-0.386900</td>\n",
       "                        <td id=\"T_12b40_row0_col8\" class=\"data row0 col8\" >0.648221</td>\n",
       "                        <td id=\"T_12b40_row0_col9\" class=\"data row0 col9\" >0.603934</td>\n",
       "                        <td id=\"T_12b40_row0_col10\" class=\"data row0 col10\" >0.305603</td>\n",
       "                        <td id=\"T_12b40_row0_col11\" class=\"data row0 col11\" >-0.486869</td>\n",
       "                        <td id=\"T_12b40_row0_col12\" class=\"data row0 col12\" >0.471442</td>\n",
       "                        <td id=\"T_12b40_row0_col13\" class=\"data row0 col13\" >-0.393715</td>\n",
       "            </tr>\n",
       "            <tr>\n",
       "                        <th id=\"T_12b40_level0_row1\" class=\"row_heading level0 row1\" >ZN</th>\n",
       "                        <td id=\"T_12b40_row1_col0\" class=\"data row1 col0\" >-0.212927</td>\n",
       "                        <td id=\"T_12b40_row1_col1\" class=\"data row1 col1\" >1.000000</td>\n",
       "                        <td id=\"T_12b40_row1_col2\" class=\"data row1 col2\" >-0.542161</td>\n",
       "                        <td id=\"T_12b40_row1_col3\" class=\"data row1 col3\" >-0.023536</td>\n",
       "                        <td id=\"T_12b40_row1_col4\" class=\"data row1 col4\" >-0.509327</td>\n",
       "                        <td id=\"T_12b40_row1_col5\" class=\"data row1 col5\" >0.292252</td>\n",
       "                        <td id=\"T_12b40_row1_col6\" class=\"data row1 col6\" >-0.565680</td>\n",
       "                        <td id=\"T_12b40_row1_col7\" class=\"data row1 col7\" >0.666939</td>\n",
       "                        <td id=\"T_12b40_row1_col8\" class=\"data row1 col8\" >-0.306480</td>\n",
       "                        <td id=\"T_12b40_row1_col9\" class=\"data row1 col9\" >-0.322803</td>\n",
       "                        <td id=\"T_12b40_row1_col10\" class=\"data row1 col10\" >-0.390570</td>\n",
       "                        <td id=\"T_12b40_row1_col11\" class=\"data row1 col11\" >0.188575</td>\n",
       "                        <td id=\"T_12b40_row1_col12\" class=\"data row1 col12\" >-0.420097</td>\n",
       "                        <td id=\"T_12b40_row1_col13\" class=\"data row1 col13\" >0.339741</td>\n",
       "            </tr>\n",
       "            <tr>\n",
       "                        <th id=\"T_12b40_level0_row2\" class=\"row_heading level0 row2\" >INDUS</th>\n",
       "                        <td id=\"T_12b40_row2_col0\" class=\"data row2 col0\" >0.416640</td>\n",
       "                        <td id=\"T_12b40_row2_col1\" class=\"data row2 col1\" >-0.542161</td>\n",
       "                        <td id=\"T_12b40_row2_col2\" class=\"data row2 col2\" >1.000000</td>\n",
       "                        <td id=\"T_12b40_row2_col3\" class=\"data row2 col3\" >0.043686</td>\n",
       "                        <td id=\"T_12b40_row2_col4\" class=\"data row2 col4\" >0.759051</td>\n",
       "                        <td id=\"T_12b40_row2_col5\" class=\"data row2 col5\" >-0.385324</td>\n",
       "                        <td id=\"T_12b40_row2_col6\" class=\"data row2 col6\" >0.644114</td>\n",
       "                        <td id=\"T_12b40_row2_col7\" class=\"data row2 col7\" >-0.708612</td>\n",
       "                        <td id=\"T_12b40_row2_col8\" class=\"data row2 col8\" >0.580908</td>\n",
       "                        <td id=\"T_12b40_row2_col9\" class=\"data row2 col9\" >0.716288</td>\n",
       "                        <td id=\"T_12b40_row2_col10\" class=\"data row2 col10\" >0.384465</td>\n",
       "                        <td id=\"T_12b40_row2_col11\" class=\"data row2 col11\" >-0.368685</td>\n",
       "                        <td id=\"T_12b40_row2_col12\" class=\"data row2 col12\" >0.611068</td>\n",
       "                        <td id=\"T_12b40_row2_col13\" class=\"data row2 col13\" >-0.473516</td>\n",
       "            </tr>\n",
       "            <tr>\n",
       "                        <th id=\"T_12b40_level0_row3\" class=\"row_heading level0 row3\" >CHAS</th>\n",
       "                        <td id=\"T_12b40_row3_col0\" class=\"data row3 col0\" >-0.061482</td>\n",
       "                        <td id=\"T_12b40_row3_col1\" class=\"data row3 col1\" >-0.023536</td>\n",
       "                        <td id=\"T_12b40_row3_col2\" class=\"data row3 col2\" >0.043686</td>\n",
       "                        <td id=\"T_12b40_row3_col3\" class=\"data row3 col3\" >1.000000</td>\n",
       "                        <td id=\"T_12b40_row3_col4\" class=\"data row3 col4\" >0.077490</td>\n",
       "                        <td id=\"T_12b40_row3_col5\" class=\"data row3 col5\" >0.100385</td>\n",
       "                        <td id=\"T_12b40_row3_col6\" class=\"data row3 col6\" >0.058388</td>\n",
       "                        <td id=\"T_12b40_row3_col7\" class=\"data row3 col7\" >-0.088081</td>\n",
       "                        <td id=\"T_12b40_row3_col8\" class=\"data row3 col8\" >-0.023005</td>\n",
       "                        <td id=\"T_12b40_row3_col9\" class=\"data row3 col9\" >-0.048802</td>\n",
       "                        <td id=\"T_12b40_row3_col10\" class=\"data row3 col10\" >-0.132682</td>\n",
       "                        <td id=\"T_12b40_row3_col11\" class=\"data row3 col11\" >0.048275</td>\n",
       "                        <td id=\"T_12b40_row3_col12\" class=\"data row3 col12\" >-0.077592</td>\n",
       "                        <td id=\"T_12b40_row3_col13\" class=\"data row3 col13\" >0.205066</td>\n",
       "            </tr>\n",
       "            <tr>\n",
       "                        <th id=\"T_12b40_level0_row4\" class=\"row_heading level0 row4\" >NOX</th>\n",
       "                        <td id=\"T_12b40_row4_col0\" class=\"data row4 col0\" >0.430879</td>\n",
       "                        <td id=\"T_12b40_row4_col1\" class=\"data row4 col1\" >-0.509327</td>\n",
       "                        <td id=\"T_12b40_row4_col2\" class=\"data row4 col2\" >0.759051</td>\n",
       "                        <td id=\"T_12b40_row4_col3\" class=\"data row4 col3\" >0.077490</td>\n",
       "                        <td id=\"T_12b40_row4_col4\" class=\"data row4 col4\" >1.000000</td>\n",
       "                        <td id=\"T_12b40_row4_col5\" class=\"data row4 col5\" >-0.300860</td>\n",
       "                        <td id=\"T_12b40_row4_col6\" class=\"data row4 col6\" >0.727358</td>\n",
       "                        <td id=\"T_12b40_row4_col7\" class=\"data row4 col7\" >-0.763623</td>\n",
       "                        <td id=\"T_12b40_row4_col8\" class=\"data row4 col8\" >0.596012</td>\n",
       "                        <td id=\"T_12b40_row4_col9\" class=\"data row4 col9\" >0.659049</td>\n",
       "                        <td id=\"T_12b40_row4_col10\" class=\"data row4 col10\" >0.164977</td>\n",
       "                        <td id=\"T_12b40_row4_col11\" class=\"data row4 col11\" >-0.408434</td>\n",
       "                        <td id=\"T_12b40_row4_col12\" class=\"data row4 col12\" >0.602386</td>\n",
       "                        <td id=\"T_12b40_row4_col13\" class=\"data row4 col13\" >-0.422873</td>\n",
       "            </tr>\n",
       "            <tr>\n",
       "                        <th id=\"T_12b40_level0_row5\" class=\"row_heading level0 row5\" >RM</th>\n",
       "                        <td id=\"T_12b40_row5_col0\" class=\"data row5 col0\" >-0.257663</td>\n",
       "                        <td id=\"T_12b40_row5_col1\" class=\"data row5 col1\" >0.292252</td>\n",
       "                        <td id=\"T_12b40_row5_col2\" class=\"data row5 col2\" >-0.385324</td>\n",
       "                        <td id=\"T_12b40_row5_col3\" class=\"data row5 col3\" >0.100385</td>\n",
       "                        <td id=\"T_12b40_row5_col4\" class=\"data row5 col4\" >-0.300860</td>\n",
       "                        <td id=\"T_12b40_row5_col5\" class=\"data row5 col5\" >1.000000</td>\n",
       "                        <td id=\"T_12b40_row5_col6\" class=\"data row5 col6\" >-0.241318</td>\n",
       "                        <td id=\"T_12b40_row5_col7\" class=\"data row5 col7\" >0.204159</td>\n",
       "                        <td id=\"T_12b40_row5_col8\" class=\"data row5 col8\" >-0.200095</td>\n",
       "                        <td id=\"T_12b40_row5_col9\" class=\"data row5 col9\" >-0.282449</td>\n",
       "                        <td id=\"T_12b40_row5_col10\" class=\"data row5 col10\" >-0.331544</td>\n",
       "                        <td id=\"T_12b40_row5_col11\" class=\"data row5 col11\" >0.122472</td>\n",
       "                        <td id=\"T_12b40_row5_col12\" class=\"data row5 col12\" >-0.603006</td>\n",
       "                        <td id=\"T_12b40_row5_col13\" class=\"data row5 col13\" >0.680857</td>\n",
       "            </tr>\n",
       "            <tr>\n",
       "                        <th id=\"T_12b40_level0_row6\" class=\"row_heading level0 row6\" >AGE</th>\n",
       "                        <td id=\"T_12b40_row6_col0\" class=\"data row6 col0\" >0.361890</td>\n",
       "                        <td id=\"T_12b40_row6_col1\" class=\"data row6 col1\" >-0.565680</td>\n",
       "                        <td id=\"T_12b40_row6_col2\" class=\"data row6 col2\" >0.644114</td>\n",
       "                        <td id=\"T_12b40_row6_col3\" class=\"data row6 col3\" >0.058388</td>\n",
       "                        <td id=\"T_12b40_row6_col4\" class=\"data row6 col4\" >0.727358</td>\n",
       "                        <td id=\"T_12b40_row6_col5\" class=\"data row6 col5\" >-0.241318</td>\n",
       "                        <td id=\"T_12b40_row6_col6\" class=\"data row6 col6\" >1.000000</td>\n",
       "                        <td id=\"T_12b40_row6_col7\" class=\"data row6 col7\" >-0.734827</td>\n",
       "                        <td id=\"T_12b40_row6_col8\" class=\"data row6 col8\" >0.449489</td>\n",
       "                        <td id=\"T_12b40_row6_col9\" class=\"data row6 col9\" >0.501491</td>\n",
       "                        <td id=\"T_12b40_row6_col10\" class=\"data row6 col10\" >0.259633</td>\n",
       "                        <td id=\"T_12b40_row6_col11\" class=\"data row6 col11\" >-0.287900</td>\n",
       "                        <td id=\"T_12b40_row6_col12\" class=\"data row6 col12\" >0.599211</td>\n",
       "                        <td id=\"T_12b40_row6_col13\" class=\"data row6 col13\" >-0.364596</td>\n",
       "            </tr>\n",
       "            <tr>\n",
       "                        <th id=\"T_12b40_level0_row7\" class=\"row_heading level0 row7\" >DIS</th>\n",
       "                        <td id=\"T_12b40_row7_col0\" class=\"data row7 col0\" >-0.386900</td>\n",
       "                        <td id=\"T_12b40_row7_col1\" class=\"data row7 col1\" >0.666939</td>\n",
       "                        <td id=\"T_12b40_row7_col2\" class=\"data row7 col2\" >-0.708612</td>\n",
       "                        <td id=\"T_12b40_row7_col3\" class=\"data row7 col3\" >-0.088081</td>\n",
       "                        <td id=\"T_12b40_row7_col4\" class=\"data row7 col4\" >-0.763623</td>\n",
       "                        <td id=\"T_12b40_row7_col5\" class=\"data row7 col5\" >0.204159</td>\n",
       "                        <td id=\"T_12b40_row7_col6\" class=\"data row7 col6\" >-0.734827</td>\n",
       "                        <td id=\"T_12b40_row7_col7\" class=\"data row7 col7\" >1.000000</td>\n",
       "                        <td id=\"T_12b40_row7_col8\" class=\"data row7 col8\" >-0.481556</td>\n",
       "                        <td id=\"T_12b40_row7_col9\" class=\"data row7 col9\" >-0.530840</td>\n",
       "                        <td id=\"T_12b40_row7_col10\" class=\"data row7 col10\" >-0.215173</td>\n",
       "                        <td id=\"T_12b40_row7_col11\" class=\"data row7 col11\" >0.309222</td>\n",
       "                        <td id=\"T_12b40_row7_col12\" class=\"data row7 col12\" >-0.501408</td>\n",
       "                        <td id=\"T_12b40_row7_col13\" class=\"data row7 col13\" >0.240451</td>\n",
       "            </tr>\n",
       "            <tr>\n",
       "                        <th id=\"T_12b40_level0_row8\" class=\"row_heading level0 row8\" >RAD</th>\n",
       "                        <td id=\"T_12b40_row8_col0\" class=\"data row8 col0\" >0.648221</td>\n",
       "                        <td id=\"T_12b40_row8_col1\" class=\"data row8 col1\" >-0.306480</td>\n",
       "                        <td id=\"T_12b40_row8_col2\" class=\"data row8 col2\" >0.580908</td>\n",
       "                        <td id=\"T_12b40_row8_col3\" class=\"data row8 col3\" >-0.023005</td>\n",
       "                        <td id=\"T_12b40_row8_col4\" class=\"data row8 col4\" >0.596012</td>\n",
       "                        <td id=\"T_12b40_row8_col5\" class=\"data row8 col5\" >-0.200095</td>\n",
       "                        <td id=\"T_12b40_row8_col6\" class=\"data row8 col6\" >0.449489</td>\n",
       "                        <td id=\"T_12b40_row8_col7\" class=\"data row8 col7\" >-0.481556</td>\n",
       "                        <td id=\"T_12b40_row8_col8\" class=\"data row8 col8\" >1.000000</td>\n",
       "                        <td id=\"T_12b40_row8_col9\" class=\"data row8 col9\" >0.910932</td>\n",
       "                        <td id=\"T_12b40_row8_col10\" class=\"data row8 col10\" >0.471912</td>\n",
       "                        <td id=\"T_12b40_row8_col11\" class=\"data row8 col11\" >-0.490951</td>\n",
       "                        <td id=\"T_12b40_row8_col12\" class=\"data row8 col12\" >0.479857</td>\n",
       "                        <td id=\"T_12b40_row8_col13\" class=\"data row8 col13\" >-0.374693</td>\n",
       "            </tr>\n",
       "            <tr>\n",
       "                        <th id=\"T_12b40_level0_row9\" class=\"row_heading level0 row9\" >TAX</th>\n",
       "                        <td id=\"T_12b40_row9_col0\" class=\"data row9 col0\" >0.603934</td>\n",
       "                        <td id=\"T_12b40_row9_col1\" class=\"data row9 col1\" >-0.322803</td>\n",
       "                        <td id=\"T_12b40_row9_col2\" class=\"data row9 col2\" >0.716288</td>\n",
       "                        <td id=\"T_12b40_row9_col3\" class=\"data row9 col3\" >-0.048802</td>\n",
       "                        <td id=\"T_12b40_row9_col4\" class=\"data row9 col4\" >0.659049</td>\n",
       "                        <td id=\"T_12b40_row9_col5\" class=\"data row9 col5\" >-0.282449</td>\n",
       "                        <td id=\"T_12b40_row9_col6\" class=\"data row9 col6\" >0.501491</td>\n",
       "                        <td id=\"T_12b40_row9_col7\" class=\"data row9 col7\" >-0.530840</td>\n",
       "                        <td id=\"T_12b40_row9_col8\" class=\"data row9 col8\" >0.910932</td>\n",
       "                        <td id=\"T_12b40_row9_col9\" class=\"data row9 col9\" >1.000000</td>\n",
       "                        <td id=\"T_12b40_row9_col10\" class=\"data row9 col10\" >0.473026</td>\n",
       "                        <td id=\"T_12b40_row9_col11\" class=\"data row9 col11\" >-0.475293</td>\n",
       "                        <td id=\"T_12b40_row9_col12\" class=\"data row9 col12\" >0.534228</td>\n",
       "                        <td id=\"T_12b40_row9_col13\" class=\"data row9 col13\" >-0.456657</td>\n",
       "            </tr>\n",
       "            <tr>\n",
       "                        <th id=\"T_12b40_level0_row10\" class=\"row_heading level0 row10\" >PTRATIO</th>\n",
       "                        <td id=\"T_12b40_row10_col0\" class=\"data row10 col0\" >0.305603</td>\n",
       "                        <td id=\"T_12b40_row10_col1\" class=\"data row10 col1\" >-0.390570</td>\n",
       "                        <td id=\"T_12b40_row10_col2\" class=\"data row10 col2\" >0.384465</td>\n",
       "                        <td id=\"T_12b40_row10_col3\" class=\"data row10 col3\" >-0.132682</td>\n",
       "                        <td id=\"T_12b40_row10_col4\" class=\"data row10 col4\" >0.164977</td>\n",
       "                        <td id=\"T_12b40_row10_col5\" class=\"data row10 col5\" >-0.331544</td>\n",
       "                        <td id=\"T_12b40_row10_col6\" class=\"data row10 col6\" >0.259633</td>\n",
       "                        <td id=\"T_12b40_row10_col7\" class=\"data row10 col7\" >-0.215173</td>\n",
       "                        <td id=\"T_12b40_row10_col8\" class=\"data row10 col8\" >0.471912</td>\n",
       "                        <td id=\"T_12b40_row10_col9\" class=\"data row10 col9\" >0.473026</td>\n",
       "                        <td id=\"T_12b40_row10_col10\" class=\"data row10 col10\" >1.000000</td>\n",
       "                        <td id=\"T_12b40_row10_col11\" class=\"data row10 col11\" >-0.193293</td>\n",
       "                        <td id=\"T_12b40_row10_col12\" class=\"data row10 col12\" >0.370759</td>\n",
       "                        <td id=\"T_12b40_row10_col13\" class=\"data row10 col13\" >-0.493534</td>\n",
       "            </tr>\n",
       "            <tr>\n",
       "                        <th id=\"T_12b40_level0_row11\" class=\"row_heading level0 row11\" >B</th>\n",
       "                        <td id=\"T_12b40_row11_col0\" class=\"data row11 col0\" >-0.486869</td>\n",
       "                        <td id=\"T_12b40_row11_col1\" class=\"data row11 col1\" >0.188575</td>\n",
       "                        <td id=\"T_12b40_row11_col2\" class=\"data row11 col2\" >-0.368685</td>\n",
       "                        <td id=\"T_12b40_row11_col3\" class=\"data row11 col3\" >0.048275</td>\n",
       "                        <td id=\"T_12b40_row11_col4\" class=\"data row11 col4\" >-0.408434</td>\n",
       "                        <td id=\"T_12b40_row11_col5\" class=\"data row11 col5\" >0.122472</td>\n",
       "                        <td id=\"T_12b40_row11_col6\" class=\"data row11 col6\" >-0.287900</td>\n",
       "                        <td id=\"T_12b40_row11_col7\" class=\"data row11 col7\" >0.309222</td>\n",
       "                        <td id=\"T_12b40_row11_col8\" class=\"data row11 col8\" >-0.490951</td>\n",
       "                        <td id=\"T_12b40_row11_col9\" class=\"data row11 col9\" >-0.475293</td>\n",
       "                        <td id=\"T_12b40_row11_col10\" class=\"data row11 col10\" >-0.193293</td>\n",
       "                        <td id=\"T_12b40_row11_col11\" class=\"data row11 col11\" >1.000000</td>\n",
       "                        <td id=\"T_12b40_row11_col12\" class=\"data row11 col12\" >-0.405799</td>\n",
       "                        <td id=\"T_12b40_row11_col13\" class=\"data row11 col13\" >0.361761</td>\n",
       "            </tr>\n",
       "            <tr>\n",
       "                        <th id=\"T_12b40_level0_row12\" class=\"row_heading level0 row12\" >LSTAT</th>\n",
       "                        <td id=\"T_12b40_row12_col0\" class=\"data row12 col0\" >0.471442</td>\n",
       "                        <td id=\"T_12b40_row12_col1\" class=\"data row12 col1\" >-0.420097</td>\n",
       "                        <td id=\"T_12b40_row12_col2\" class=\"data row12 col2\" >0.611068</td>\n",
       "                        <td id=\"T_12b40_row12_col3\" class=\"data row12 col3\" >-0.077592</td>\n",
       "                        <td id=\"T_12b40_row12_col4\" class=\"data row12 col4\" >0.602386</td>\n",
       "                        <td id=\"T_12b40_row12_col5\" class=\"data row12 col5\" >-0.603006</td>\n",
       "                        <td id=\"T_12b40_row12_col6\" class=\"data row12 col6\" >0.599211</td>\n",
       "                        <td id=\"T_12b40_row12_col7\" class=\"data row12 col7\" >-0.501408</td>\n",
       "                        <td id=\"T_12b40_row12_col8\" class=\"data row12 col8\" >0.479857</td>\n",
       "                        <td id=\"T_12b40_row12_col9\" class=\"data row12 col9\" >0.534228</td>\n",
       "                        <td id=\"T_12b40_row12_col10\" class=\"data row12 col10\" >0.370759</td>\n",
       "                        <td id=\"T_12b40_row12_col11\" class=\"data row12 col11\" >-0.405799</td>\n",
       "                        <td id=\"T_12b40_row12_col12\" class=\"data row12 col12\" >1.000000</td>\n",
       "                        <td id=\"T_12b40_row12_col13\" class=\"data row12 col13\" >-0.740494</td>\n",
       "            </tr>\n",
       "            <tr>\n",
       "                        <th id=\"T_12b40_level0_row13\" class=\"row_heading level0 row13\" >MEDV</th>\n",
       "                        <td id=\"T_12b40_row13_col0\" class=\"data row13 col0\" >-0.393715</td>\n",
       "                        <td id=\"T_12b40_row13_col1\" class=\"data row13 col1\" >0.339741</td>\n",
       "                        <td id=\"T_12b40_row13_col2\" class=\"data row13 col2\" >-0.473516</td>\n",
       "                        <td id=\"T_12b40_row13_col3\" class=\"data row13 col3\" >0.205066</td>\n",
       "                        <td id=\"T_12b40_row13_col4\" class=\"data row13 col4\" >-0.422873</td>\n",
       "                        <td id=\"T_12b40_row13_col5\" class=\"data row13 col5\" >0.680857</td>\n",
       "                        <td id=\"T_12b40_row13_col6\" class=\"data row13 col6\" >-0.364596</td>\n",
       "                        <td id=\"T_12b40_row13_col7\" class=\"data row13 col7\" >0.240451</td>\n",
       "                        <td id=\"T_12b40_row13_col8\" class=\"data row13 col8\" >-0.374693</td>\n",
       "                        <td id=\"T_12b40_row13_col9\" class=\"data row13 col9\" >-0.456657</td>\n",
       "                        <td id=\"T_12b40_row13_col10\" class=\"data row13 col10\" >-0.493534</td>\n",
       "                        <td id=\"T_12b40_row13_col11\" class=\"data row13 col11\" >0.361761</td>\n",
       "                        <td id=\"T_12b40_row13_col12\" class=\"data row13 col12\" >-0.740494</td>\n",
       "                        <td id=\"T_12b40_row13_col13\" class=\"data row13 col13\" >1.000000</td>\n",
       "            </tr>\n",
       "    </tbody></table>"
      ],
      "text/plain": [
       "<pandas.io.formats.style.Styler at 0x18999cbe9a0>"
      ]
     },
     "execution_count": 34,
     "metadata": {},
     "output_type": "execute_result"
    }
   ],
   "source": [
    "correlatoin_matrix.style.background_gradient(cmap='coolwarm')"
   ]
  },
  {
   "cell_type": "code",
   "execution_count": 35,
   "id": "funded-malta",
   "metadata": {},
   "outputs": [
    {
     "name": "stderr",
     "output_type": "stream",
     "text": [
      "c:\\users\\ali\\appdata\\local\\programs\\python\\python39\\lib\\site-packages\\pandas\\plotting\\_matplotlib\\tools.py:400: MatplotlibDeprecationWarning: \n",
      "The is_first_col function was deprecated in Matplotlib 3.4 and will be removed two minor releases later. Use ax.get_subplotspec().is_first_col() instead.\n",
      "  if ax.is_first_col():\n"
     ]
    },
    {
     "data": {
      "text/plain": [
       "array([[<AxesSubplot:xlabel='MEDV', ylabel='MEDV'>,\n",
       "        <AxesSubplot:xlabel='RM', ylabel='MEDV'>,\n",
       "        <AxesSubplot:xlabel='ZN', ylabel='MEDV'>,\n",
       "        <AxesSubplot:xlabel='LSTAT', ylabel='MEDV'>],\n",
       "       [<AxesSubplot:xlabel='MEDV', ylabel='RM'>,\n",
       "        <AxesSubplot:xlabel='RM', ylabel='RM'>,\n",
       "        <AxesSubplot:xlabel='ZN', ylabel='RM'>,\n",
       "        <AxesSubplot:xlabel='LSTAT', ylabel='RM'>],\n",
       "       [<AxesSubplot:xlabel='MEDV', ylabel='ZN'>,\n",
       "        <AxesSubplot:xlabel='RM', ylabel='ZN'>,\n",
       "        <AxesSubplot:xlabel='ZN', ylabel='ZN'>,\n",
       "        <AxesSubplot:xlabel='LSTAT', ylabel='ZN'>],\n",
       "       [<AxesSubplot:xlabel='MEDV', ylabel='LSTAT'>,\n",
       "        <AxesSubplot:xlabel='RM', ylabel='LSTAT'>,\n",
       "        <AxesSubplot:xlabel='ZN', ylabel='LSTAT'>,\n",
       "        <AxesSubplot:xlabel='LSTAT', ylabel='LSTAT'>]], dtype=object)"
      ]
     },
     "execution_count": 35,
     "metadata": {},
     "output_type": "execute_result"
    },
    {
     "data": {
      "image/png": "[encoded data removed]",
      "text/plain": [
       "<Figure size 864x576 with 16 Axes>"
      ]
     },
     "metadata": {
      "needs_background": "light"
     },
     "output_type": "display_data"
    }
   ],
   "source": [
    "from pandas.plotting import scatter_matrix\n",
    "attributes = [\"MEDV\", \"RM\", \"ZN\", \"LSTAT\"]\n",
    "scatter_matrix(training_data[attributes], figsize = (12,8),color=\"red\")"
   ]
  },
  {
   "cell_type": "code",
   "execution_count": 36,
   "id": "attempted-mauritius",
   "metadata": {},
   "outputs": [
    {
     "data": {
      "text/plain": [
       "<AxesSubplot:xlabel='RM', ylabel='MEDV'>"
      ]
     },
     "execution_count": 36,
     "metadata": {},
     "output_type": "execute_result"
    },
    {
     "data": {
      "image/png": "[encoded data removed]",
      "text/plain": [
       "<Figure size 432x288 with 1 Axes>"
      ]
     },
     "metadata": {
      "needs_background": "light"
     },
     "output_type": "display_data"
    }
   ],
   "source": [
    "training_data.plot(kind=\"scatter\", x=\"RM\", y=\"MEDV\", alpha=0.8)"
   ]
  },
  {
   "cell_type": "code",
   "execution_count": 37,
   "id": "wrong-lambda",
   "metadata": {},
   "outputs": [
    {
     "data": {
      "text/plain": [
       "<AxesSubplot:xlabel='RM', ylabel='MEDV'>"
      ]
     },
     "execution_count": 37,
     "metadata": {},
     "output_type": "execute_result"
    },
    {
     "data": {
      "image/png": "[encoded data removed]",
      "text/plain": [
       "<Figure size 432x288 with 1 Axes>"
      ]
     },
     "metadata": {
      "needs_background": "light"
     },
     "output_type": "display_data"
    }
   ],
   "source": [
    "sns.regplot(x=\"RM\", y=\"MEDV\", data=houses_data, color=\"red\")"
   ]
  },
  {
   "cell_type": "markdown",
   "id": "crucial-melissa",
   "metadata": {},
   "source": [
    " "
   ]
  },
  {
   "cell_type": "markdown",
   "id": "variable-council",
   "metadata": {},
   "source": [
    "# Creating New Attribute in the Data"
   ]
  },
  {
   "cell_type": "code",
   "execution_count": 38,
   "id": "vietnamese-efficiency",
   "metadata": {},
   "outputs": [
    {
     "data": {
      "text/html": [
       "<div>\n",
       "<style scoped>\n",
       "    .dataframe tbody tr th:only-of-type {\n",
       "        vertical-align: middle;\n",
       "    }\n",
       "\n",
       "    .dataframe tbody tr th {\n",
       "        vertical-align: top;\n",
       "    }\n",
       "\n",
       "    .dataframe thead th {\n",
       "        text-align: right;\n",
       "    }\n",
       "</style>\n",
       "<table border=\"1\" class=\"dataframe\">\n",
       "  <thead>\n",
       "    <tr style=\"text-align: right;\">\n",
       "      <th></th>\n",
       "      <th>CRIM</th>\n",
       "      <th>ZN</th>\n",
       "      <th>INDUS</th>\n",
       "      <th>CHAS</th>\n",
       "      <th>NOX</th>\n",
       "      <th>RM</th>\n",
       "      <th>AGE</th>\n",
       "      <th>DIS</th>\n",
       "      <th>RAD</th>\n",
       "      <th>TAX</th>\n",
       "      <th>PTRATIO</th>\n",
       "      <th>B</th>\n",
       "      <th>LSTAT</th>\n",
       "      <th>MEDV</th>\n",
       "      <th>TAXRM</th>\n",
       "    </tr>\n",
       "  </thead>\n",
       "  <tbody>\n",
       "    <tr>\n",
       "      <th>254</th>\n",
       "      <td>0.04819</td>\n",
       "      <td>80.0</td>\n",
       "      <td>3.64</td>\n",
       "      <td>0</td>\n",
       "      <td>0.392</td>\n",
       "      <td>6.108</td>\n",
       "      <td>32.0</td>\n",
       "      <td>9.2203</td>\n",
       "      <td>1</td>\n",
       "      <td>315</td>\n",
       "      <td>16.4</td>\n",
       "      <td>392.89</td>\n",
       "      <td>6.57</td>\n",
       "      <td>21.9</td>\n",
       "      <td>51.571709</td>\n",
       "    </tr>\n",
       "    <tr>\n",
       "      <th>348</th>\n",
       "      <td>0.01501</td>\n",
       "      <td>80.0</td>\n",
       "      <td>2.01</td>\n",
       "      <td>0</td>\n",
       "      <td>0.435</td>\n",
       "      <td>6.635</td>\n",
       "      <td>29.7</td>\n",
       "      <td>8.3440</td>\n",
       "      <td>4</td>\n",
       "      <td>280</td>\n",
       "      <td>17.0</td>\n",
       "      <td>390.94</td>\n",
       "      <td>5.99</td>\n",
       "      <td>24.5</td>\n",
       "      <td>42.200452</td>\n",
       "    </tr>\n",
       "    <tr>\n",
       "      <th>476</th>\n",
       "      <td>4.87141</td>\n",
       "      <td>0.0</td>\n",
       "      <td>18.10</td>\n",
       "      <td>0</td>\n",
       "      <td>0.614</td>\n",
       "      <td>6.484</td>\n",
       "      <td>93.6</td>\n",
       "      <td>2.3053</td>\n",
       "      <td>24</td>\n",
       "      <td>666</td>\n",
       "      <td>20.2</td>\n",
       "      <td>396.21</td>\n",
       "      <td>18.68</td>\n",
       "      <td>16.7</td>\n",
       "      <td>102.714374</td>\n",
       "    </tr>\n",
       "    <tr>\n",
       "      <th>321</th>\n",
       "      <td>0.18159</td>\n",
       "      <td>0.0</td>\n",
       "      <td>7.38</td>\n",
       "      <td>0</td>\n",
       "      <td>0.493</td>\n",
       "      <td>6.376</td>\n",
       "      <td>54.3</td>\n",
       "      <td>4.5404</td>\n",
       "      <td>5</td>\n",
       "      <td>287</td>\n",
       "      <td>19.6</td>\n",
       "      <td>396.90</td>\n",
       "      <td>6.87</td>\n",
       "      <td>23.1</td>\n",
       "      <td>45.012547</td>\n",
       "    </tr>\n",
       "    <tr>\n",
       "      <th>326</th>\n",
       "      <td>0.30347</td>\n",
       "      <td>0.0</td>\n",
       "      <td>7.38</td>\n",
       "      <td>0</td>\n",
       "      <td>0.493</td>\n",
       "      <td>6.312</td>\n",
       "      <td>28.9</td>\n",
       "      <td>5.4159</td>\n",
       "      <td>5</td>\n",
       "      <td>287</td>\n",
       "      <td>19.6</td>\n",
       "      <td>396.90</td>\n",
       "      <td>6.15</td>\n",
       "      <td>23.0</td>\n",
       "      <td>45.468948</td>\n",
       "    </tr>\n",
       "  </tbody>\n",
       "</table>\n",
       "</div>"
      ],
      "text/plain": [
       "        CRIM    ZN  INDUS  CHAS    NOX     RM   AGE     DIS  RAD  TAX  \\\n",
       "254  0.04819  80.0   3.64     0  0.392  6.108  32.0  9.2203    1  315   \n",
       "348  0.01501  80.0   2.01     0  0.435  6.635  29.7  8.3440    4  280   \n",
       "476  4.87141   0.0  18.10     0  0.614  6.484  93.6  2.3053   24  666   \n",
       "321  0.18159   0.0   7.38     0  0.493  6.376  54.3  4.5404    5  287   \n",
       "326  0.30347   0.0   7.38     0  0.493  6.312  28.9  5.4159    5  287   \n",
       "\n",
       "     PTRATIO       B  LSTAT  MEDV       TAXRM  \n",
       "254     16.4  392.89   6.57  21.9   51.571709  \n",
       "348     17.0  390.94   5.99  24.5   42.200452  \n",
       "476     20.2  396.21  18.68  16.7  102.714374  \n",
       "321     19.6  396.90   6.87  23.1   45.012547  \n",
       "326     19.6  396.90   6.15  23.0   45.468948  "
      ]
     },
     "execution_count": 38,
     "metadata": {},
     "output_type": "execute_result"
    }
   ],
   "source": [
    "training_data[\"TAXRM\"] = training_data['TAX']/training_data['RM']\n",
    "training_data.head()"
   ]
  },
  {
   "cell_type": "code",
   "execution_count": 39,
   "id": "fatal-track",
   "metadata": {},
   "outputs": [
    {
     "data": {
      "text/plain": [
       "MEDV       1.000000\n",
       "RM         0.680857\n",
       "B          0.361761\n",
       "ZN         0.339741\n",
       "DIS        0.240451\n",
       "CHAS       0.205066\n",
       "AGE       -0.364596\n",
       "RAD       -0.374693\n",
       "CRIM      -0.393715\n",
       "NOX       -0.422873\n",
       "TAX       -0.456657\n",
       "INDUS     -0.473516\n",
       "PTRATIO   -0.493534\n",
       "TAXRM     -0.528626\n",
       "LSTAT     -0.740494\n",
       "Name: MEDV, dtype: float64"
      ]
     },
     "execution_count": 39,
     "metadata": {},
     "output_type": "execute_result"
    }
   ],
   "source": [
    "corr_matrix = training_data.corr()\n",
    "corr_matrix['MEDV'].sort_values(ascending=False)"
   ]
  },
  {
   "cell_type": "code",
   "execution_count": 40,
   "id": "latin-preference",
   "metadata": {},
   "outputs": [
    {
     "data": {
      "text/plain": [
       "<AxesSubplot:xlabel='TAXRM', ylabel='MEDV'>"
      ]
     },
     "execution_count": 40,
     "metadata": {},
     "output_type": "execute_result"
    },
    {
     "data": {
      "image/png": "[encoded data removed]",
      "text/plain": [
       "<Figure size 432x288 with 1 Axes>"
      ]
     },
     "metadata": {
      "needs_background": "light"
     },
     "output_type": "display_data"
    }
   ],
   "source": [
    "training_data.plot(kind=\"scatter\", x=\"TAXRM\", y=\"MEDV\", alpha=0.8)"
   ]
  },
  {
   "cell_type": "code",
   "execution_count": 41,
   "id": "valuable-attempt",
   "metadata": {},
   "outputs": [],
   "source": [
    "training_data = strat_train_set.drop(\"MEDV\", axis=1)\n",
    "housing_labels = strat_train_set[\"MEDV\"].copy()"
   ]
  },
  {
   "cell_type": "markdown",
   "id": "handy-lawsuit",
   "metadata": {},
   "source": [
    "# Missing Attributes"
   ]
  },
  {
   "cell_type": "code",
   "execution_count": 42,
   "id": "personal-penalty",
   "metadata": {},
   "outputs": [
    {
     "data": {
      "text/plain": [
       "254    6.108\n",
       "348    6.635\n",
       "476    6.484\n",
       "321    6.376\n",
       "326    6.312\n",
       "       ...  \n",
       "155    6.152\n",
       "423    6.103\n",
       "98     7.820\n",
       "455    6.525\n",
       "216    5.888\n",
       "Name: RM, Length: 404, dtype: float64"
      ]
     },
     "execution_count": 42,
     "metadata": {},
     "output_type": "execute_result"
    }
   ],
   "source": [
    "median = training_data[\"RM\"].median() \n",
    "training_data[\"RM\"].fillna(median)"
   ]
  },
  {
   "cell_type": "code",
   "execution_count": 43,
   "id": "economic-scheme",
   "metadata": {},
   "outputs": [
    {
     "data": {
      "text/html": [
       "<div>\n",
       "<style scoped>\n",
       "    .dataframe tbody tr th:only-of-type {\n",
       "        vertical-align: middle;\n",
       "    }\n",
       "\n",
       "    .dataframe tbody tr th {\n",
       "        vertical-align: top;\n",
       "    }\n",
       "\n",
       "    .dataframe thead th {\n",
       "        text-align: right;\n",
       "    }\n",
       "</style>\n",
       "<table border=\"1\" class=\"dataframe\">\n",
       "  <thead>\n",
       "    <tr style=\"text-align: right;\">\n",
       "      <th></th>\n",
       "      <th>CRIM</th>\n",
       "      <th>ZN</th>\n",
       "      <th>INDUS</th>\n",
       "      <th>CHAS</th>\n",
       "      <th>NOX</th>\n",
       "      <th>RM</th>\n",
       "      <th>AGE</th>\n",
       "      <th>DIS</th>\n",
       "      <th>RAD</th>\n",
       "      <th>TAX</th>\n",
       "      <th>PTRATIO</th>\n",
       "      <th>B</th>\n",
       "      <th>LSTAT</th>\n",
       "    </tr>\n",
       "  </thead>\n",
       "  <tbody>\n",
       "    <tr>\n",
       "      <th>count</th>\n",
       "      <td>404.000000</td>\n",
       "      <td>404.000000</td>\n",
       "      <td>404.000000</td>\n",
       "      <td>404.000000</td>\n",
       "      <td>404.000000</td>\n",
       "      <td>399.000000</td>\n",
       "      <td>404.000000</td>\n",
       "      <td>404.000000</td>\n",
       "      <td>404.000000</td>\n",
       "      <td>404.000000</td>\n",
       "      <td>404.000000</td>\n",
       "      <td>404.000000</td>\n",
       "      <td>404.000000</td>\n",
       "    </tr>\n",
       "    <tr>\n",
       "      <th>mean</th>\n",
       "      <td>3.602814</td>\n",
       "      <td>10.836634</td>\n",
       "      <td>11.344950</td>\n",
       "      <td>0.069307</td>\n",
       "      <td>0.558064</td>\n",
       "      <td>6.279481</td>\n",
       "      <td>69.039851</td>\n",
       "      <td>3.746210</td>\n",
       "      <td>9.735149</td>\n",
       "      <td>412.341584</td>\n",
       "      <td>18.473267</td>\n",
       "      <td>353.392822</td>\n",
       "      <td>12.791609</td>\n",
       "    </tr>\n",
       "    <tr>\n",
       "      <th>std</th>\n",
       "      <td>8.099383</td>\n",
       "      <td>22.150636</td>\n",
       "      <td>6.877817</td>\n",
       "      <td>0.254290</td>\n",
       "      <td>0.116875</td>\n",
       "      <td>0.716784</td>\n",
       "      <td>28.258248</td>\n",
       "      <td>2.099057</td>\n",
       "      <td>8.731259</td>\n",
       "      <td>168.672623</td>\n",
       "      <td>2.129243</td>\n",
       "      <td>96.069235</td>\n",
       "      <td>7.235740</td>\n",
       "    </tr>\n",
       "    <tr>\n",
       "      <th>min</th>\n",
       "      <td>0.006320</td>\n",
       "      <td>0.000000</td>\n",
       "      <td>0.740000</td>\n",
       "      <td>0.000000</td>\n",
       "      <td>0.389000</td>\n",
       "      <td>3.561000</td>\n",
       "      <td>2.900000</td>\n",
       "      <td>1.129600</td>\n",
       "      <td>1.000000</td>\n",
       "      <td>187.000000</td>\n",
       "      <td>13.000000</td>\n",
       "      <td>0.320000</td>\n",
       "      <td>1.730000</td>\n",
       "    </tr>\n",
       "    <tr>\n",
       "      <th>25%</th>\n",
       "      <td>0.086962</td>\n",
       "      <td>0.000000</td>\n",
       "      <td>5.190000</td>\n",
       "      <td>0.000000</td>\n",
       "      <td>0.453000</td>\n",
       "      <td>5.876500</td>\n",
       "      <td>44.850000</td>\n",
       "      <td>2.035975</td>\n",
       "      <td>4.000000</td>\n",
       "      <td>284.000000</td>\n",
       "      <td>17.400000</td>\n",
       "      <td>374.617500</td>\n",
       "      <td>6.847500</td>\n",
       "    </tr>\n",
       "    <tr>\n",
       "      <th>50%</th>\n",
       "      <td>0.286735</td>\n",
       "      <td>0.000000</td>\n",
       "      <td>9.900000</td>\n",
       "      <td>0.000000</td>\n",
       "      <td>0.538000</td>\n",
       "      <td>6.209000</td>\n",
       "      <td>78.200000</td>\n",
       "      <td>3.122200</td>\n",
       "      <td>5.000000</td>\n",
       "      <td>337.000000</td>\n",
       "      <td>19.000000</td>\n",
       "      <td>390.955000</td>\n",
       "      <td>11.570000</td>\n",
       "    </tr>\n",
       "    <tr>\n",
       "      <th>75%</th>\n",
       "      <td>3.731923</td>\n",
       "      <td>12.500000</td>\n",
       "      <td>18.100000</td>\n",
       "      <td>0.000000</td>\n",
       "      <td>0.631000</td>\n",
       "      <td>6.630500</td>\n",
       "      <td>94.100000</td>\n",
       "      <td>5.100400</td>\n",
       "      <td>24.000000</td>\n",
       "      <td>666.000000</td>\n",
       "      <td>20.200000</td>\n",
       "      <td>395.630000</td>\n",
       "      <td>17.102500</td>\n",
       "    </tr>\n",
       "    <tr>\n",
       "      <th>max</th>\n",
       "      <td>73.534100</td>\n",
       "      <td>100.000000</td>\n",
       "      <td>27.740000</td>\n",
       "      <td>1.000000</td>\n",
       "      <td>0.871000</td>\n",
       "      <td>8.780000</td>\n",
       "      <td>100.000000</td>\n",
       "      <td>12.126500</td>\n",
       "      <td>24.000000</td>\n",
       "      <td>711.000000</td>\n",
       "      <td>22.000000</td>\n",
       "      <td>396.900000</td>\n",
       "      <td>36.980000</td>\n",
       "    </tr>\n",
       "  </tbody>\n",
       "</table>\n",
       "</div>"
      ],
      "text/plain": [
       "             CRIM          ZN       INDUS        CHAS         NOX          RM  \\\n",
       "count  404.000000  404.000000  404.000000  404.000000  404.000000  399.000000   \n",
       "mean     3.602814   10.836634   11.344950    0.069307    0.558064    6.279481   \n",
       "std      8.099383   22.150636    6.877817    0.254290    0.116875    0.716784   \n",
       "min      0.006320    0.000000    0.740000    0.000000    0.389000    3.561000   \n",
       "25%      0.086962    0.000000    5.190000    0.000000    0.453000    5.876500   \n",
       "50%      0.286735    0.000000    9.900000    0.000000    0.538000    6.209000   \n",
       "75%      3.731923   12.500000   18.100000    0.000000    0.631000    6.630500   \n",
       "max     73.534100  100.000000   27.740000    1.000000    0.871000    8.780000   \n",
       "\n",
       "              AGE         DIS         RAD         TAX     PTRATIO           B  \\\n",
       "count  404.000000  404.000000  404.000000  404.000000  404.000000  404.000000   \n",
       "mean    69.039851    3.746210    9.735149  412.341584   18.473267  353.392822   \n",
       "std     28.258248    2.099057    8.731259  168.672623    2.129243   96.069235   \n",
       "min      2.900000    1.129600    1.000000  187.000000   13.000000    0.320000   \n",
       "25%     44.850000    2.035975    4.000000  284.000000   17.400000  374.617500   \n",
       "50%     78.200000    3.122200    5.000000  337.000000   19.000000  390.955000   \n",
       "75%     94.100000    5.100400   24.000000  666.000000   20.200000  395.630000   \n",
       "max    100.000000   12.126500   24.000000  711.000000   22.000000  396.900000   \n",
       "\n",
       "            LSTAT  \n",
       "count  404.000000  \n",
       "mean    12.791609  \n",
       "std      7.235740  \n",
       "min      1.730000  \n",
       "25%      6.847500  \n",
       "50%     11.570000  \n",
       "75%     17.102500  \n",
       "max     36.980000  "
      ]
     },
     "execution_count": 43,
     "metadata": {},
     "output_type": "execute_result"
    }
   ],
   "source": [
    "training_data.describe()"
   ]
  },
  {
   "cell_type": "markdown",
   "id": "signal-missouri",
   "metadata": {},
   "source": [
    "# Scaling the Data"
   ]
  },
  {
   "cell_type": "code",
   "execution_count": 44,
   "id": "purple-cedar",
   "metadata": {},
   "outputs": [
    {
     "data": {
      "text/plain": [
       "array([2.86735e-01, 0.00000e+00, 9.90000e+00, 0.00000e+00, 5.38000e-01,\n",
       "       6.20900e+00, 7.82000e+01, 3.12220e+00, 5.00000e+00, 3.37000e+02,\n",
       "       1.90000e+01, 3.90955e+02, 1.15700e+01])"
      ]
     },
     "execution_count": 44,
     "metadata": {},
     "output_type": "execute_result"
    }
   ],
   "source": [
    "from sklearn.impute import SimpleImputer\n",
    "imputer = SimpleImputer(strategy=\"median\")\n",
    "imputer.fit(training_data)\n",
    "imputer.statistics_"
   ]
  },
  {
   "cell_type": "code",
   "execution_count": 45,
   "id": "consecutive-inquiry",
   "metadata": {},
   "outputs": [
    {
     "data": {
      "text/html": [
       "<div>\n",
       "<style scoped>\n",
       "    .dataframe tbody tr th:only-of-type {\n",
       "        vertical-align: middle;\n",
       "    }\n",
       "\n",
       "    .dataframe tbody tr th {\n",
       "        vertical-align: top;\n",
       "    }\n",
       "\n",
       "    .dataframe thead th {\n",
       "        text-align: right;\n",
       "    }\n",
       "</style>\n",
       "<table border=\"1\" class=\"dataframe\">\n",
       "  <thead>\n",
       "    <tr style=\"text-align: right;\">\n",
       "      <th></th>\n",
       "      <th>CRIM</th>\n",
       "      <th>ZN</th>\n",
       "      <th>INDUS</th>\n",
       "      <th>CHAS</th>\n",
       "      <th>NOX</th>\n",
       "      <th>RM</th>\n",
       "      <th>AGE</th>\n",
       "      <th>DIS</th>\n",
       "      <th>RAD</th>\n",
       "      <th>TAX</th>\n",
       "      <th>PTRATIO</th>\n",
       "      <th>B</th>\n",
       "      <th>LSTAT</th>\n",
       "    </tr>\n",
       "  </thead>\n",
       "  <tbody>\n",
       "    <tr>\n",
       "      <th>count</th>\n",
       "      <td>404.000000</td>\n",
       "      <td>404.000000</td>\n",
       "      <td>404.000000</td>\n",
       "      <td>404.000000</td>\n",
       "      <td>404.000000</td>\n",
       "      <td>404.000000</td>\n",
       "      <td>404.000000</td>\n",
       "      <td>404.000000</td>\n",
       "      <td>404.000000</td>\n",
       "      <td>404.000000</td>\n",
       "      <td>404.000000</td>\n",
       "      <td>404.000000</td>\n",
       "      <td>404.000000</td>\n",
       "    </tr>\n",
       "    <tr>\n",
       "      <th>mean</th>\n",
       "      <td>3.602814</td>\n",
       "      <td>10.836634</td>\n",
       "      <td>11.344950</td>\n",
       "      <td>0.069307</td>\n",
       "      <td>0.558064</td>\n",
       "      <td>6.278609</td>\n",
       "      <td>69.039851</td>\n",
       "      <td>3.746210</td>\n",
       "      <td>9.735149</td>\n",
       "      <td>412.341584</td>\n",
       "      <td>18.473267</td>\n",
       "      <td>353.392822</td>\n",
       "      <td>12.791609</td>\n",
       "    </tr>\n",
       "    <tr>\n",
       "      <th>std</th>\n",
       "      <td>8.099383</td>\n",
       "      <td>22.150636</td>\n",
       "      <td>6.877817</td>\n",
       "      <td>0.254290</td>\n",
       "      <td>0.116875</td>\n",
       "      <td>0.712366</td>\n",
       "      <td>28.258248</td>\n",
       "      <td>2.099057</td>\n",
       "      <td>8.731259</td>\n",
       "      <td>168.672623</td>\n",
       "      <td>2.129243</td>\n",
       "      <td>96.069235</td>\n",
       "      <td>7.235740</td>\n",
       "    </tr>\n",
       "    <tr>\n",
       "      <th>min</th>\n",
       "      <td>0.006320</td>\n",
       "      <td>0.000000</td>\n",
       "      <td>0.740000</td>\n",
       "      <td>0.000000</td>\n",
       "      <td>0.389000</td>\n",
       "      <td>3.561000</td>\n",
       "      <td>2.900000</td>\n",
       "      <td>1.129600</td>\n",
       "      <td>1.000000</td>\n",
       "      <td>187.000000</td>\n",
       "      <td>13.000000</td>\n",
       "      <td>0.320000</td>\n",
       "      <td>1.730000</td>\n",
       "    </tr>\n",
       "    <tr>\n",
       "      <th>25%</th>\n",
       "      <td>0.086962</td>\n",
       "      <td>0.000000</td>\n",
       "      <td>5.190000</td>\n",
       "      <td>0.000000</td>\n",
       "      <td>0.453000</td>\n",
       "      <td>5.878750</td>\n",
       "      <td>44.850000</td>\n",
       "      <td>2.035975</td>\n",
       "      <td>4.000000</td>\n",
       "      <td>284.000000</td>\n",
       "      <td>17.400000</td>\n",
       "      <td>374.617500</td>\n",
       "      <td>6.847500</td>\n",
       "    </tr>\n",
       "    <tr>\n",
       "      <th>50%</th>\n",
       "      <td>0.286735</td>\n",
       "      <td>0.000000</td>\n",
       "      <td>9.900000</td>\n",
       "      <td>0.000000</td>\n",
       "      <td>0.538000</td>\n",
       "      <td>6.209000</td>\n",
       "      <td>78.200000</td>\n",
       "      <td>3.122200</td>\n",
       "      <td>5.000000</td>\n",
       "      <td>337.000000</td>\n",
       "      <td>19.000000</td>\n",
       "      <td>390.955000</td>\n",
       "      <td>11.570000</td>\n",
       "    </tr>\n",
       "    <tr>\n",
       "      <th>75%</th>\n",
       "      <td>3.731923</td>\n",
       "      <td>12.500000</td>\n",
       "      <td>18.100000</td>\n",
       "      <td>0.000000</td>\n",
       "      <td>0.631000</td>\n",
       "      <td>6.630000</td>\n",
       "      <td>94.100000</td>\n",
       "      <td>5.100400</td>\n",
       "      <td>24.000000</td>\n",
       "      <td>666.000000</td>\n",
       "      <td>20.200000</td>\n",
       "      <td>395.630000</td>\n",
       "      <td>17.102500</td>\n",
       "    </tr>\n",
       "    <tr>\n",
       "      <th>max</th>\n",
       "      <td>73.534100</td>\n",
       "      <td>100.000000</td>\n",
       "      <td>27.740000</td>\n",
       "      <td>1.000000</td>\n",
       "      <td>0.871000</td>\n",
       "      <td>8.780000</td>\n",
       "      <td>100.000000</td>\n",
       "      <td>12.126500</td>\n",
       "      <td>24.000000</td>\n",
       "      <td>711.000000</td>\n",
       "      <td>22.000000</td>\n",
       "      <td>396.900000</td>\n",
       "      <td>36.980000</td>\n",
       "    </tr>\n",
       "  </tbody>\n",
       "</table>\n",
       "</div>"
      ],
      "text/plain": [
       "             CRIM          ZN       INDUS        CHAS         NOX          RM  \\\n",
       "count  404.000000  404.000000  404.000000  404.000000  404.000000  404.000000   \n",
       "mean     3.602814   10.836634   11.344950    0.069307    0.558064    6.278609   \n",
       "std      8.099383   22.150636    6.877817    0.254290    0.116875    0.712366   \n",
       "min      0.006320    0.000000    0.740000    0.000000    0.389000    3.561000   \n",
       "25%      0.086962    0.000000    5.190000    0.000000    0.453000    5.878750   \n",
       "50%      0.286735    0.000000    9.900000    0.000000    0.538000    6.209000   \n",
       "75%      3.731923   12.500000   18.100000    0.000000    0.631000    6.630000   \n",
       "max     73.534100  100.000000   27.740000    1.000000    0.871000    8.780000   \n",
       "\n",
       "              AGE         DIS         RAD         TAX     PTRATIO           B  \\\n",
       "count  404.000000  404.000000  404.000000  404.000000  404.000000  404.000000   \n",
       "mean    69.039851    3.746210    9.735149  412.341584   18.473267  353.392822   \n",
       "std     28.258248    2.099057    8.731259  168.672623    2.129243   96.069235   \n",
       "min      2.900000    1.129600    1.000000  187.000000   13.000000    0.320000   \n",
       "25%     44.850000    2.035975    4.000000  284.000000   17.400000  374.617500   \n",
       "50%     78.200000    3.122200    5.000000  337.000000   19.000000  390.955000   \n",
       "75%     94.100000    5.100400   24.000000  666.000000   20.200000  395.630000   \n",
       "max    100.000000   12.126500   24.000000  711.000000   22.000000  396.900000   \n",
       "\n",
       "            LSTAT  \n",
       "count  404.000000  \n",
       "mean    12.791609  \n",
       "std      7.235740  \n",
       "min      1.730000  \n",
       "25%      6.847500  \n",
       "50%     11.570000  \n",
       "75%     17.102500  \n",
       "max     36.980000  "
      ]
     },
     "execution_count": 45,
     "metadata": {},
     "output_type": "execute_result"
    }
   ],
   "source": [
    "X = imputer.transform(training_data)\n",
    "h_transform = pd.DataFrame(X, columns=training_data.columns)\n",
    "h_transform.describe()"
   ]
  },
  {
   "cell_type": "markdown",
   "id": "constant-swimming",
   "metadata": {},
   "source": [
    " "
   ]
  },
  {
   "cell_type": "markdown",
   "id": "dominican-fleet",
   "metadata": {},
   "source": [
    "# Creaing Pipeline for The Data"
   ]
  },
  {
   "cell_type": "code",
   "execution_count": 46,
   "id": "checked-aquarium",
   "metadata": {},
   "outputs": [],
   "source": [
    "from sklearn.pipeline import Pipeline\n",
    "from sklearn.preprocessing import StandardScaler\n",
    "my_pipeline = Pipeline([\n",
    "    ('imputer', SimpleImputer(strategy=\"median\")),\n",
    "    ('std_scaler', StandardScaler()),\n",
    "])\n"
   ]
  },
  {
   "cell_type": "code",
   "execution_count": 47,
   "id": "collected-chase",
   "metadata": {},
   "outputs": [],
   "source": [
    "housing_num_tr = my_pipeline.fit_transform(training_data)"
   ]
  },
  {
   "cell_type": "markdown",
   "id": "economic-myrtle",
   "metadata": {},
   "source": [
    " "
   ]
  },
  {
   "cell_type": "markdown",
   "id": "frank-barbados",
   "metadata": {},
   "source": [
    "# Selecting Model for The Data"
   ]
  },
  {
   "cell_type": "code",
   "execution_count": 48,
   "id": "stainless-council",
   "metadata": {},
   "outputs": [],
   "source": [
    "from sklearn.ensemble import RandomForestRegressor"
   ]
  },
  {
   "cell_type": "code",
   "execution_count": 49,
   "id": "increased-burns",
   "metadata": {},
   "outputs": [
    {
     "data": {
      "text/plain": [
       "RandomForestRegressor()"
      ]
     },
     "execution_count": 49,
     "metadata": {},
     "output_type": "execute_result"
    }
   ],
   "source": [
    "from sklearn.linear_model import LinearRegression\n",
    "from sklearn.tree import DecisionTreeRegressor\n",
    "from sklearn.ensemble import RandomForestRegressor\n",
    "model = RandomForestRegressor()\n",
    "model.fit(housing_num_tr, housing_labels)"
   ]
  },
  {
   "cell_type": "code",
   "execution_count": 50,
   "id": "grateful-banking",
   "metadata": {},
   "outputs": [],
   "source": [
    "some_data= training_data.iloc[:5]"
   ]
  },
  {
   "cell_type": "code",
   "execution_count": 51,
   "id": "severe-increase",
   "metadata": {},
   "outputs": [],
   "source": [
    "some_labels = housing_labels.iloc[:5]"
   ]
  },
  {
   "cell_type": "code",
   "execution_count": 52,
   "id": "younger-italian",
   "metadata": {},
   "outputs": [],
   "source": [
    "prepared_data = my_pipeline.transform(some_data)"
   ]
  },
  {
   "cell_type": "code",
   "execution_count": 53,
   "id": "blocked-taylor",
   "metadata": {},
   "outputs": [
    {
     "data": {
      "text/plain": [
       "array([22.339, 25.506, 16.514, 23.306, 23.518])"
      ]
     },
     "execution_count": 53,
     "metadata": {},
     "output_type": "execute_result"
    }
   ],
   "source": [
    "model.predict(prepared_data)"
   ]
  },
  {
   "cell_type": "code",
   "execution_count": 54,
   "id": "sacred-smooth",
   "metadata": {},
   "outputs": [
    {
     "data": {
      "text/plain": [
       "[21.9, 24.5, 16.7, 23.1, 23.0]"
      ]
     },
     "execution_count": 54,
     "metadata": {},
     "output_type": "execute_result"
    }
   ],
   "source": [
    "list(some_labels)"
   ]
  },
  {
   "cell_type": "markdown",
   "id": "alert-jacksonville",
   "metadata": {},
   "source": [
    " "
   ]
  },
  {
   "cell_type": "markdown",
   "id": "subtle-apollo",
   "metadata": {},
   "source": [
    " "
   ]
  },
  {
   "cell_type": "markdown",
   "id": "hungarian-jewelry",
   "metadata": {},
   "source": [
    "# Evaluating the Model"
   ]
  },
  {
   "cell_type": "code",
   "execution_count": 55,
   "id": "northern-while",
   "metadata": {},
   "outputs": [],
   "source": [
    "from sklearn.metrics import mean_squared_error\n",
    "housing_predictions = model.predict(housing_num_tr)\n",
    "mse = mean_squared_error(housing_labels, housing_predictions)\n",
    "rmse = np.sqrt(mse)"
   ]
  },
  {
   "cell_type": "code",
   "execution_count": 56,
   "id": "durable-nurse",
   "metadata": {},
   "outputs": [
    {
     "data": {
      "text/plain": [
       "1.207666502469997"
      ]
     },
     "execution_count": 56,
     "metadata": {},
     "output_type": "execute_result"
    }
   ],
   "source": [
    "rmse"
   ]
  },
  {
   "cell_type": "markdown",
   "id": "precious-entity",
   "metadata": {},
   "source": [
    "# Cross Validation on Data"
   ]
  },
  {
   "cell_type": "code",
   "execution_count": 57,
   "id": "thousand-finland",
   "metadata": {},
   "outputs": [],
   "source": [
    "from sklearn.model_selection import cross_val_score\n",
    "scores = cross_val_score(model, housing_num_tr, housing_labels, scoring=\"neg_mean_squared_error\", cv=10)\n",
    "rmse_scores = np.sqrt(-scores)"
   ]
  },
  {
   "cell_type": "code",
   "execution_count": 58,
   "id": "random-malpractice",
   "metadata": {},
   "outputs": [
    {
     "data": {
      "text/plain": [
       "array([2.84424282, 2.75536105, 4.48328263, 2.62195488, 3.57565405,\n",
       "       2.65022855, 4.83785507, 3.38242725, 2.94619445, 3.06444094])"
      ]
     },
     "execution_count": 58,
     "metadata": {},
     "output_type": "execute_result"
    }
   ],
   "source": [
    "rmse_scores"
   ]
  },
  {
   "cell_type": "code",
   "execution_count": 59,
   "id": "executed-bulgaria",
   "metadata": {},
   "outputs": [],
   "source": [
    "def print_scores(scores):\n",
    "    print(\"Scores:\", scores)\n",
    "    print(\"Mean: \", scores.mean())\n",
    "    print(\"Standard deviation: \", scores.std())"
   ]
  },
  {
   "cell_type": "code",
   "execution_count": 60,
   "id": "verified-lexington",
   "metadata": {},
   "outputs": [
    {
     "name": "stdout",
     "output_type": "stream",
     "text": [
      "Scores: [2.84424282 2.75536105 4.48328263 2.62195488 3.57565405 2.65022855\n",
      " 4.83785507 3.38242725 2.94619445 3.06444094]\n",
      "Mean:  3.3161641681404235\n",
      "Standard deviation:  0.7356822254423252\n"
     ]
    }
   ],
   "source": [
    "print_scores(rmse_scores)"
   ]
  },
  {
   "cell_type": "markdown",
   "id": "piano-oxide",
   "metadata": {},
   "source": [
    "# Saving The Model"
   ]
  },
  {
   "cell_type": "code",
   "execution_count": 61,
   "id": "knowing-sister",
   "metadata": {},
   "outputs": [
    {
     "data": {
      "text/plain": [
       "['Dragon.joblib']"
      ]
     },
     "execution_count": 61,
     "metadata": {},
     "output_type": "execute_result"
    }
   ],
   "source": [
    "from joblib import dump, load\n",
    "dump(model, 'Dragon.joblib') "
   ]
  },
  {
   "cell_type": "markdown",
   "id": "million-arrangement",
   "metadata": {},
   "source": [
    " "
   ]
  },
  {
   "cell_type": "markdown",
   "id": "executive-bones",
   "metadata": {},
   "source": [
    "# Testing the Model"
   ]
  },
  {
   "cell_type": "code",
   "execution_count": 62,
   "id": "unsigned-award",
   "metadata": {},
   "outputs": [],
   "source": [
    "X_test = strat_test_set.drop(\"MEDV\", axis=1)\n",
    "Y_test = strat_test_set[\"MEDV\"].copy()\n",
    "X_test_prepared = my_pipeline.transform(X_test)\n",
    "final_predictions = model.predict(X_test_prepared)\n",
    "final_mse = mean_squared_error(Y_test, final_predictions)\n",
    "final_rmse = np.sqrt(final_mse)\n",
    "# print(final_predictions, list(Y_test))"
   ]
  },
  {
   "cell_type": "code",
   "execution_count": 63,
   "id": "framed-interpretation",
   "metadata": {},
   "outputs": [
    {
     "data": {
      "text/plain": [
       "2.9173294193793864"
      ]
     },
     "execution_count": 63,
     "metadata": {},
     "output_type": "execute_result"
    }
   ],
   "source": [
    "final_rmse"
   ]
  },
  {
   "cell_type": "code",
   "execution_count": 64,
   "id": "distant-isaac",
   "metadata": {},
   "outputs": [
    {
     "data": {
      "text/plain": [
       "array([-0.43942006,  3.12628155, -1.12165014, -0.27288841, -1.42262747,\n",
       "       -0.23979304, -1.31238772,  2.61111401, -1.0016859 , -0.5778192 ,\n",
       "       -0.97491834,  0.41164221, -0.86091034])"
      ]
     },
     "execution_count": 64,
     "metadata": {},
     "output_type": "execute_result"
    }
   ],
   "source": [
    "prepared_data[0]"
   ]
  },
  {
   "cell_type": "markdown",
   "id": "respective-marker",
   "metadata": {},
   "source": [
    "  "
   ]
  },
  {
   "cell_type": "markdown",
   "id": "indoor-karaoke",
   "metadata": {},
   "source": [
    "# Using the Model"
   ]
  },
  {
   "cell_type": "code",
   "execution_count": 65,
   "id": "atomic-administrator",
   "metadata": {},
   "outputs": [
    {
     "data": {
      "text/plain": [
       "array([24.635])"
      ]
     },
     "execution_count": 65,
     "metadata": {},
     "output_type": "execute_result"
    }
   ],
   "source": [
    "from joblib import dump, load\n",
    "import numpy as np\n",
    "model = load('Dragon.joblib') \n",
    "features = np.array([[-5.43942006, 4.12628155, -1.6165014, -0.67288841, -1.42262747,\n",
    "       -11.44443979304, -49.31238772,  7.61111401, -26.0016879 , -0.5778192 ,\n",
    "       -0.97491834,  0.41164221, -66.86091034]])\n",
    "model.predict(features)"
   ]
  },
  {
   "cell_type": "markdown",
   "id": "sexual-montgomery",
   "metadata": {},
   "source": [
    "# Linear Regression  Modal"
   ]
  },
  {
   "cell_type": "code",
   "execution_count": 66,
   "id": "varying-privilege",
   "metadata": {},
   "outputs": [
    {
     "data": {
      "text/plain": [
       "array([23.99866812, 27.25283558, 20.5818147 , 25.04908672, 23.77464206])"
      ]
     },
     "execution_count": 66,
     "metadata": {},
     "output_type": "execute_result"
    }
   ],
   "source": [
    "d_model =  LinearRegression()\n",
    "d_model.fit(housing_num_tr, housing_labels)\n",
    "some_data= training_data.iloc[:5]\n",
    "some_labels = housing_labels.iloc[:5]\n",
    "prepared_data = my_pipeline.transform(some_data)\n",
    "d_model.predict(prepared_data)\n",
    "\n",
    "\n"
   ]
  },
  {
   "cell_type": "code",
   "execution_count": 67,
   "id": "curious-external",
   "metadata": {},
   "outputs": [
    {
     "data": {
      "text/plain": [
       "[21.9, 24.5, 16.7, 23.1, 23.0]"
      ]
     },
     "execution_count": 67,
     "metadata": {},
     "output_type": "execute_result"
    }
   ],
   "source": [
    "list(some_labels)"
   ]
  },
  {
   "cell_type": "code",
   "execution_count": 84,
   "id": "biological-tobacco",
   "metadata": {},
   "outputs": [],
   "source": [
    "# evaluating the modal\n",
    "from sklearn.metrics import mean_squared_error\n",
    "housing_predictions = d_model.predict(housing_num_tr)\n",
    "mse = mean_squared_error(housing_labels, housing_predictions)\n",
    "rmse = np.sqrt(mse)\n",
    "from sklearn.model_selection import cross_val_score\n",
    "scores = cross_val_score(d_model, housing_num_tr, housing_labels, scoring=\"neg_mean_squared_error\", cv=10)\n",
    "rmse_scores = np.sqrt(-scores)"
   ]
  },
  {
   "cell_type": "code",
   "execution_count": 85,
   "id": "reasonable-spell",
   "metadata": {},
   "outputs": [
    {
     "data": {
      "text/plain": [
       "23.380136328422374"
      ]
     },
     "execution_count": 85,
     "metadata": {},
     "output_type": "execute_result"
    }
   ],
   "source": [
    "mse"
   ]
  },
  {
   "cell_type": "code",
   "execution_count": 86,
   "id": "impaired-affiliate",
   "metadata": {},
   "outputs": [],
   "source": [
    "def print_scores(scores):\n",
    "    print(\"Scores:\", scores)\n",
    "    print(\"Mean: \", scores.mean())\n",
    "    print(\"Standard deviation: \", scores.std())"
   ]
  },
  {
   "cell_type": "code",
   "execution_count": 87,
   "id": "seasonal-bobby",
   "metadata": {},
   "outputs": [
    {
     "data": {
      "text/plain": [
       "4.835301058716238"
      ]
     },
     "execution_count": 87,
     "metadata": {},
     "output_type": "execute_result"
    }
   ],
   "source": [
    "rmse"
   ]
  },
  {
   "cell_type": "code",
   "execution_count": 88,
   "id": "august-value",
   "metadata": {},
   "outputs": [
    {
     "name": "stdout",
     "output_type": "stream",
     "text": [
      "Scores: [4.22235612 4.26438649 5.09424333 3.83081183 5.37600331 4.41092152\n",
      " 7.47272243 5.48554135 4.14606627 6.0717752 ]\n",
      "Mean:  5.037482786117751\n",
      "Standard deviation:  1.0594382405606952\n"
     ]
    }
   ],
   "source": [
    "print_scores(rmse_scores)"
   ]
  }
 ],
 "metadata": {
  "kernelspec": {
   "display_name": "Python 3",
   "language": "python",
   "name": "python3"
  },
  "language_info": {
   "codemirror_mode": {
    "name": "ipython",
    "version": 3
   },
   "file_extension": ".py",
   "mimetype": "text/x-python",
   "name": "python",
   "nbconvert_exporter": "python",
   "pygments_lexer": "ipython3",
   "version": "3.9.2"
  }
 },
 "nbformat": 4,
 "nbformat_minor": 5
}
